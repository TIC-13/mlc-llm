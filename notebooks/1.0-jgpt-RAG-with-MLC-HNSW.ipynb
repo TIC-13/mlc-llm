{
 "cells": [
  {
   "cell_type": "code",
   "execution_count": 3,
   "id": "45aff530-c12d-4a22-808a-09af8a9a836e",
   "metadata": {},
   "outputs": [
    {
     "name": "stdout",
     "output_type": "stream",
     "text": [
      "Requirement already satisfied: hnswlib in /home/jgpt/miniconda3/envs/mlc-chat-venv/lib/python3.11/site-packages (0.8.0)\n",
      "Requirement already satisfied: numpy in /home/jgpt/miniconda3/envs/mlc-chat-venv/lib/python3.11/site-packages (from hnswlib) (1.26.4)\n",
      "Requirement already satisfied: llama-index in /home/jgpt/miniconda3/envs/mlc-chat-venv/lib/python3.11/site-packages (0.9.27)\n",
      "Requirement already satisfied: transformers in /home/jgpt/miniconda3/envs/mlc-chat-venv/lib/python3.11/site-packages (4.40.2)\n",
      "Requirement already satisfied: accelerate in /home/jgpt/miniconda3/envs/mlc-chat-venv/lib/python3.11/site-packages (0.30.0)\n",
      "Requirement already satisfied: bitsandbytes in /home/jgpt/miniconda3/envs/mlc-chat-venv/lib/python3.11/site-packages (0.43.1)\n",
      "Requirement already satisfied: SQLAlchemy>=1.4.49 in /home/jgpt/miniconda3/envs/mlc-chat-venv/lib/python3.11/site-packages (from SQLAlchemy[asyncio]>=1.4.49->llama-index) (2.0.30)\n",
      "Requirement already satisfied: aiohttp<4.0.0,>=3.8.6 in /home/jgpt/miniconda3/envs/mlc-chat-venv/lib/python3.11/site-packages (from llama-index) (3.9.5)\n",
      "Requirement already satisfied: beautifulsoup4<5.0.0,>=4.12.2 in /home/jgpt/miniconda3/envs/mlc-chat-venv/lib/python3.11/site-packages (from llama-index) (4.12.3)\n",
      "Requirement already satisfied: dataclasses-json in /home/jgpt/miniconda3/envs/mlc-chat-venv/lib/python3.11/site-packages (from llama-index) (0.6.5)\n",
      "Requirement already satisfied: deprecated>=1.2.9.3 in /home/jgpt/miniconda3/envs/mlc-chat-venv/lib/python3.11/site-packages (from llama-index) (1.2.14)\n",
      "Requirement already satisfied: fsspec>=2023.5.0 in /home/jgpt/miniconda3/envs/mlc-chat-venv/lib/python3.11/site-packages (from llama-index) (2024.3.1)\n",
      "Requirement already satisfied: httpx in /home/jgpt/miniconda3/envs/mlc-chat-venv/lib/python3.11/site-packages (from llama-index) (0.27.0)\n",
      "Requirement already satisfied: nest-asyncio<2.0.0,>=1.5.8 in /home/jgpt/miniconda3/envs/mlc-chat-venv/lib/python3.11/site-packages (from llama-index) (1.6.0)\n",
      "Requirement already satisfied: networkx>=3.0 in /home/jgpt/miniconda3/envs/mlc-chat-venv/lib/python3.11/site-packages (from llama-index) (3.3)\n",
      "Requirement already satisfied: nltk<4.0.0,>=3.8.1 in /home/jgpt/miniconda3/envs/mlc-chat-venv/lib/python3.11/site-packages (from llama-index) (3.8.1)\n",
      "Requirement already satisfied: numpy in /home/jgpt/miniconda3/envs/mlc-chat-venv/lib/python3.11/site-packages (from llama-index) (1.26.4)\n",
      "Requirement already satisfied: openai>=1.1.0 in /home/jgpt/miniconda3/envs/mlc-chat-venv/lib/python3.11/site-packages (from llama-index) (1.23.6)\n",
      "Requirement already satisfied: pandas in /home/jgpt/miniconda3/envs/mlc-chat-venv/lib/python3.11/site-packages (from llama-index) (2.2.2)\n",
      "Requirement already satisfied: requests>=2.31.0 in /home/jgpt/miniconda3/envs/mlc-chat-venv/lib/python3.11/site-packages (from llama-index) (2.31.0)\n",
      "Requirement already satisfied: tenacity<9.0.0,>=8.2.0 in /home/jgpt/miniconda3/envs/mlc-chat-venv/lib/python3.11/site-packages (from llama-index) (8.3.0)\n",
      "Requirement already satisfied: tiktoken>=0.3.3 in /home/jgpt/miniconda3/envs/mlc-chat-venv/lib/python3.11/site-packages (from llama-index) (0.6.0)\n",
      "Requirement already satisfied: typing-extensions>=4.5.0 in /home/jgpt/miniconda3/envs/mlc-chat-venv/lib/python3.11/site-packages (from llama-index) (4.11.0)\n",
      "Requirement already satisfied: typing-inspect>=0.8.0 in /home/jgpt/miniconda3/envs/mlc-chat-venv/lib/python3.11/site-packages (from llama-index) (0.9.0)\n",
      "Requirement already satisfied: filelock in /home/jgpt/miniconda3/envs/mlc-chat-venv/lib/python3.11/site-packages (from transformers) (3.13.4)\n",
      "Requirement already satisfied: huggingface-hub<1.0,>=0.19.3 in /home/jgpt/miniconda3/envs/mlc-chat-venv/lib/python3.11/site-packages (from transformers) (0.23.0)\n",
      "Requirement already satisfied: packaging>=20.0 in /home/jgpt/miniconda3/envs/mlc-chat-venv/lib/python3.11/site-packages (from transformers) (23.2)\n",
      "Requirement already satisfied: pyyaml>=5.1 in /home/jgpt/miniconda3/envs/mlc-chat-venv/lib/python3.11/site-packages (from transformers) (6.0.1)\n",
      "Requirement already satisfied: regex!=2019.12.17 in /home/jgpt/miniconda3/envs/mlc-chat-venv/lib/python3.11/site-packages (from transformers) (2024.4.16)\n",
      "Requirement already satisfied: tokenizers<0.20,>=0.19 in /home/jgpt/miniconda3/envs/mlc-chat-venv/lib/python3.11/site-packages (from transformers) (0.19.1)\n",
      "Requirement already satisfied: safetensors>=0.4.1 in /home/jgpt/miniconda3/envs/mlc-chat-venv/lib/python3.11/site-packages (from transformers) (0.4.3)\n",
      "Requirement already satisfied: tqdm>=4.27 in /home/jgpt/miniconda3/envs/mlc-chat-venv/lib/python3.11/site-packages (from transformers) (4.66.4)\n",
      "Requirement already satisfied: psutil in /home/jgpt/miniconda3/envs/mlc-chat-venv/lib/python3.11/site-packages (from accelerate) (5.9.0)\n",
      "Requirement already satisfied: torch>=1.10.0 in /home/jgpt/miniconda3/envs/mlc-chat-venv/lib/python3.11/site-packages (from accelerate) (2.3.0)\n",
      "Requirement already satisfied: aiosignal>=1.1.2 in /home/jgpt/miniconda3/envs/mlc-chat-venv/lib/python3.11/site-packages (from aiohttp<4.0.0,>=3.8.6->llama-index) (1.3.1)\n",
      "Requirement already satisfied: attrs>=17.3.0 in /home/jgpt/miniconda3/envs/mlc-chat-venv/lib/python3.11/site-packages (from aiohttp<4.0.0,>=3.8.6->llama-index) (23.2.0)\n",
      "Requirement already satisfied: frozenlist>=1.1.1 in /home/jgpt/miniconda3/envs/mlc-chat-venv/lib/python3.11/site-packages (from aiohttp<4.0.0,>=3.8.6->llama-index) (1.4.1)\n",
      "Requirement already satisfied: multidict<7.0,>=4.5 in /home/jgpt/miniconda3/envs/mlc-chat-venv/lib/python3.11/site-packages (from aiohttp<4.0.0,>=3.8.6->llama-index) (6.0.5)\n",
      "Requirement already satisfied: yarl<2.0,>=1.0 in /home/jgpt/miniconda3/envs/mlc-chat-venv/lib/python3.11/site-packages (from aiohttp<4.0.0,>=3.8.6->llama-index) (1.9.4)\n",
      "Requirement already satisfied: soupsieve>1.2 in /home/jgpt/miniconda3/envs/mlc-chat-venv/lib/python3.11/site-packages (from beautifulsoup4<5.0.0,>=4.12.2->llama-index) (2.5)\n",
      "Requirement already satisfied: wrapt<2,>=1.10 in /home/jgpt/miniconda3/envs/mlc-chat-venv/lib/python3.11/site-packages (from deprecated>=1.2.9.3->llama-index) (1.16.0)\n",
      "Requirement already satisfied: click in /home/jgpt/miniconda3/envs/mlc-chat-venv/lib/python3.11/site-packages (from nltk<4.0.0,>=3.8.1->llama-index) (8.1.7)\n",
      "Requirement already satisfied: joblib in /home/jgpt/miniconda3/envs/mlc-chat-venv/lib/python3.11/site-packages (from nltk<4.0.0,>=3.8.1->llama-index) (1.4.2)\n",
      "Requirement already satisfied: anyio<5,>=3.5.0 in /home/jgpt/miniconda3/envs/mlc-chat-venv/lib/python3.11/site-packages (from openai>=1.1.0->llama-index) (4.2.0)\n",
      "Requirement already satisfied: distro<2,>=1.7.0 in /home/jgpt/miniconda3/envs/mlc-chat-venv/lib/python3.11/site-packages (from openai>=1.1.0->llama-index) (1.9.0)\n",
      "Requirement already satisfied: pydantic<3,>=1.9.0 in /home/jgpt/miniconda3/envs/mlc-chat-venv/lib/python3.11/site-packages (from openai>=1.1.0->llama-index) (2.7.1)\n",
      "Requirement already satisfied: sniffio in /home/jgpt/miniconda3/envs/mlc-chat-venv/lib/python3.11/site-packages (from openai>=1.1.0->llama-index) (1.3.0)\n",
      "Requirement already satisfied: certifi in /home/jgpt/miniconda3/envs/mlc-chat-venv/lib/python3.11/site-packages (from httpx->llama-index) (2023.11.17)\n",
      "Requirement already satisfied: httpcore==1.* in /home/jgpt/miniconda3/envs/mlc-chat-venv/lib/python3.11/site-packages (from httpx->llama-index) (1.0.5)\n",
      "Requirement already satisfied: idna in /home/jgpt/miniconda3/envs/mlc-chat-venv/lib/python3.11/site-packages (from httpx->llama-index) (3.7)\n",
      "Requirement already satisfied: h11<0.15,>=0.13 in /home/jgpt/miniconda3/envs/mlc-chat-venv/lib/python3.11/site-packages (from httpcore==1.*->httpx->llama-index) (0.14.0)\n",
      "Requirement already satisfied: charset-normalizer<4,>=2 in /home/jgpt/miniconda3/envs/mlc-chat-venv/lib/python3.11/site-packages (from requests>=2.31.0->llama-index) (3.3.2)\n",
      "Requirement already satisfied: urllib3<3,>=1.21.1 in /home/jgpt/miniconda3/envs/mlc-chat-venv/lib/python3.11/site-packages (from requests>=2.31.0->llama-index) (2.2.1)\n",
      "Requirement already satisfied: greenlet!=0.4.17 in /home/jgpt/miniconda3/envs/mlc-chat-venv/lib/python3.11/site-packages (from SQLAlchemy>=1.4.49->SQLAlchemy[asyncio]>=1.4.49->llama-index) (3.0.3)\n",
      "Requirement already satisfied: sympy in /home/jgpt/miniconda3/envs/mlc-chat-venv/lib/python3.11/site-packages (from torch>=1.10.0->accelerate) (1.12)\n",
      "Requirement already satisfied: jinja2 in /home/jgpt/miniconda3/envs/mlc-chat-venv/lib/python3.11/site-packages (from torch>=1.10.0->accelerate) (3.1.3)\n",
      "Requirement already satisfied: nvidia-cuda-nvrtc-cu12==12.1.105 in /home/jgpt/miniconda3/envs/mlc-chat-venv/lib/python3.11/site-packages (from torch>=1.10.0->accelerate) (12.1.105)\n",
      "Requirement already satisfied: nvidia-cuda-runtime-cu12==12.1.105 in /home/jgpt/miniconda3/envs/mlc-chat-venv/lib/python3.11/site-packages (from torch>=1.10.0->accelerate) (12.1.105)\n",
      "Requirement already satisfied: nvidia-cuda-cupti-cu12==12.1.105 in /home/jgpt/miniconda3/envs/mlc-chat-venv/lib/python3.11/site-packages (from torch>=1.10.0->accelerate) (12.1.105)\n",
      "Requirement already satisfied: nvidia-cudnn-cu12==8.9.2.26 in /home/jgpt/miniconda3/envs/mlc-chat-venv/lib/python3.11/site-packages (from torch>=1.10.0->accelerate) (8.9.2.26)\n",
      "Requirement already satisfied: nvidia-cublas-cu12==12.1.3.1 in /home/jgpt/miniconda3/envs/mlc-chat-venv/lib/python3.11/site-packages (from torch>=1.10.0->accelerate) (12.1.3.1)\n",
      "Requirement already satisfied: nvidia-cufft-cu12==11.0.2.54 in /home/jgpt/miniconda3/envs/mlc-chat-venv/lib/python3.11/site-packages (from torch>=1.10.0->accelerate) (11.0.2.54)\n",
      "Requirement already satisfied: nvidia-curand-cu12==10.3.2.106 in /home/jgpt/miniconda3/envs/mlc-chat-venv/lib/python3.11/site-packages (from torch>=1.10.0->accelerate) (10.3.2.106)\n",
      "Requirement already satisfied: nvidia-cusolver-cu12==11.4.5.107 in /home/jgpt/miniconda3/envs/mlc-chat-venv/lib/python3.11/site-packages (from torch>=1.10.0->accelerate) (11.4.5.107)\n",
      "Requirement already satisfied: nvidia-cusparse-cu12==12.1.0.106 in /home/jgpt/miniconda3/envs/mlc-chat-venv/lib/python3.11/site-packages (from torch>=1.10.0->accelerate) (12.1.0.106)\n",
      "Requirement already satisfied: nvidia-nccl-cu12==2.20.5 in /home/jgpt/miniconda3/envs/mlc-chat-venv/lib/python3.11/site-packages (from torch>=1.10.0->accelerate) (2.20.5)\n",
      "Requirement already satisfied: nvidia-nvtx-cu12==12.1.105 in /home/jgpt/miniconda3/envs/mlc-chat-venv/lib/python3.11/site-packages (from torch>=1.10.0->accelerate) (12.1.105)\n",
      "Requirement already satisfied: triton==2.3.0 in /home/jgpt/miniconda3/envs/mlc-chat-venv/lib/python3.11/site-packages (from torch>=1.10.0->accelerate) (2.3.0)\n",
      "Requirement already satisfied: nvidia-nvjitlink-cu12 in /home/jgpt/miniconda3/envs/mlc-chat-venv/lib/python3.11/site-packages (from nvidia-cusolver-cu12==11.4.5.107->torch>=1.10.0->accelerate) (12.4.127)\n",
      "Requirement already satisfied: mypy-extensions>=0.3.0 in /home/jgpt/miniconda3/envs/mlc-chat-venv/lib/python3.11/site-packages (from typing-inspect>=0.8.0->llama-index) (1.0.0)\n",
      "Requirement already satisfied: marshmallow<4.0.0,>=3.18.0 in /home/jgpt/miniconda3/envs/mlc-chat-venv/lib/python3.11/site-packages (from dataclasses-json->llama-index) (3.21.2)\n",
      "Requirement already satisfied: python-dateutil>=2.8.2 in /home/jgpt/miniconda3/envs/mlc-chat-venv/lib/python3.11/site-packages (from pandas->llama-index) (2.8.2)\n",
      "Requirement already satisfied: pytz>=2020.1 in /home/jgpt/miniconda3/envs/mlc-chat-venv/lib/python3.11/site-packages (from pandas->llama-index) (2024.1)\n",
      "Requirement already satisfied: tzdata>=2022.7 in /home/jgpt/miniconda3/envs/mlc-chat-venv/lib/python3.11/site-packages (from pandas->llama-index) (2024.1)\n",
      "Requirement already satisfied: annotated-types>=0.4.0 in /home/jgpt/miniconda3/envs/mlc-chat-venv/lib/python3.11/site-packages (from pydantic<3,>=1.9.0->openai>=1.1.0->llama-index) (0.6.0)\n",
      "Requirement already satisfied: pydantic-core==2.18.2 in /home/jgpt/miniconda3/envs/mlc-chat-venv/lib/python3.11/site-packages (from pydantic<3,>=1.9.0->openai>=1.1.0->llama-index) (2.18.2)\n",
      "Requirement already satisfied: six>=1.5 in /home/jgpt/miniconda3/envs/mlc-chat-venv/lib/python3.11/site-packages (from python-dateutil>=2.8.2->pandas->llama-index) (1.16.0)\n",
      "Requirement already satisfied: MarkupSafe>=2.0 in /home/jgpt/miniconda3/envs/mlc-chat-venv/lib/python3.11/site-packages (from jinja2->torch>=1.10.0->accelerate) (2.1.3)\n",
      "Requirement already satisfied: mpmath>=0.19 in /home/jgpt/miniconda3/envs/mlc-chat-venv/lib/python3.11/site-packages (from sympy->torch>=1.10.0->accelerate) (1.3.0)\n"
     ]
    }
   ],
   "source": [
    "!pip install hnswlib\n",
    "!pip install llama-index transformers accelerate bitsandbytes"
   ]
  },
  {
   "cell_type": "code",
   "execution_count": 4,
   "id": "6ce3e8ea-3630-40bd-8a7a-c9b66f154f28",
   "metadata": {},
   "outputs": [
    {
     "name": "stdout",
     "output_type": "stream",
     "text": [
      "Requirement already satisfied: autollm in /home/jgpt/miniconda3/envs/mlc-chat-venv/lib/python3.11/site-packages (0.1.10)\n",
      "Requirement already satisfied: langchain in /home/jgpt/miniconda3/envs/mlc-chat-venv/lib/python3.11/site-packages (0.1.19)\n",
      "Requirement already satisfied: llama-index==0.9.27 in /home/jgpt/miniconda3/envs/mlc-chat-venv/lib/python3.11/site-packages (from autollm) (0.9.27)\n",
      "Requirement already satisfied: litellm==1.16.21 in /home/jgpt/miniconda3/envs/mlc-chat-venv/lib/python3.11/site-packages (from autollm) (1.16.21)\n",
      "Requirement already satisfied: uvicorn in /home/jgpt/miniconda3/envs/mlc-chat-venv/lib/python3.11/site-packages (from autollm) (0.29.0)\n",
      "Requirement already satisfied: fastapi in /home/jgpt/miniconda3/envs/mlc-chat-venv/lib/python3.11/site-packages (from autollm) (0.110.2)\n",
      "Requirement already satisfied: python-dotenv in /home/jgpt/miniconda3/envs/mlc-chat-venv/lib/python3.11/site-packages (from autollm) (1.0.1)\n",
      "Requirement already satisfied: httpx in /home/jgpt/miniconda3/envs/mlc-chat-venv/lib/python3.11/site-packages (from autollm) (0.27.0)\n",
      "Requirement already satisfied: lancedb==0.3.4 in /home/jgpt/miniconda3/envs/mlc-chat-venv/lib/python3.11/site-packages (from autollm) (0.3.4)\n",
      "Requirement already satisfied: deprecation in /home/jgpt/miniconda3/envs/mlc-chat-venv/lib/python3.11/site-packages (from lancedb==0.3.4->autollm) (2.1.0)\n",
      "Requirement already satisfied: pylance==0.8.17 in /home/jgpt/miniconda3/envs/mlc-chat-venv/lib/python3.11/site-packages (from lancedb==0.3.4->autollm) (0.8.17)\n",
      "Requirement already satisfied: ratelimiter~=1.0 in /home/jgpt/miniconda3/envs/mlc-chat-venv/lib/python3.11/site-packages (from lancedb==0.3.4->autollm) (1.2.0.post0)\n",
      "Requirement already satisfied: retry>=0.9.2 in /home/jgpt/miniconda3/envs/mlc-chat-venv/lib/python3.11/site-packages (from lancedb==0.3.4->autollm) (0.9.2)\n",
      "Requirement already satisfied: tqdm>=4.1.0 in /home/jgpt/miniconda3/envs/mlc-chat-venv/lib/python3.11/site-packages (from lancedb==0.3.4->autollm) (4.66.4)\n",
      "Requirement already satisfied: aiohttp in /home/jgpt/miniconda3/envs/mlc-chat-venv/lib/python3.11/site-packages (from lancedb==0.3.4->autollm) (3.9.5)\n",
      "Requirement already satisfied: pydantic>=1.10 in /home/jgpt/miniconda3/envs/mlc-chat-venv/lib/python3.11/site-packages (from lancedb==0.3.4->autollm) (2.7.1)\n",
      "Requirement already satisfied: attrs>=21.3.0 in /home/jgpt/miniconda3/envs/mlc-chat-venv/lib/python3.11/site-packages (from lancedb==0.3.4->autollm) (23.2.0)\n",
      "Requirement already satisfied: semver>=3.0 in /home/jgpt/miniconda3/envs/mlc-chat-venv/lib/python3.11/site-packages (from lancedb==0.3.4->autollm) (3.0.2)\n",
      "Requirement already satisfied: cachetools in /home/jgpt/miniconda3/envs/mlc-chat-venv/lib/python3.11/site-packages (from lancedb==0.3.4->autollm) (5.3.3)\n",
      "Requirement already satisfied: pyyaml>=6.0 in /home/jgpt/miniconda3/envs/mlc-chat-venv/lib/python3.11/site-packages (from lancedb==0.3.4->autollm) (6.0.1)\n",
      "Requirement already satisfied: click>=8.1.7 in /home/jgpt/miniconda3/envs/mlc-chat-venv/lib/python3.11/site-packages (from lancedb==0.3.4->autollm) (8.1.7)\n",
      "Requirement already satisfied: requests>=2.31.0 in /home/jgpt/miniconda3/envs/mlc-chat-venv/lib/python3.11/site-packages (from lancedb==0.3.4->autollm) (2.31.0)\n",
      "Requirement already satisfied: overrides>=0.7 in /home/jgpt/miniconda3/envs/mlc-chat-venv/lib/python3.11/site-packages (from lancedb==0.3.4->autollm) (7.4.0)\n",
      "Requirement already satisfied: certifi<2024.0.0,>=2023.7.22 in /home/jgpt/miniconda3/envs/mlc-chat-venv/lib/python3.11/site-packages (from litellm==1.16.21->autollm) (2023.11.17)\n",
      "Requirement already satisfied: importlib-metadata>=6.8.0 in /home/jgpt/miniconda3/envs/mlc-chat-venv/lib/python3.11/site-packages (from litellm==1.16.21->autollm) (7.0.0)\n",
      "Requirement already satisfied: jinja2<4.0.0,>=3.1.2 in /home/jgpt/miniconda3/envs/mlc-chat-venv/lib/python3.11/site-packages (from litellm==1.16.21->autollm) (3.1.3)\n",
      "Requirement already satisfied: openai>=1.0.0 in /home/jgpt/miniconda3/envs/mlc-chat-venv/lib/python3.11/site-packages (from litellm==1.16.21->autollm) (1.23.6)\n",
      "Requirement already satisfied: tiktoken>=0.4.0 in /home/jgpt/miniconda3/envs/mlc-chat-venv/lib/python3.11/site-packages (from litellm==1.16.21->autollm) (0.6.0)\n",
      "Requirement already satisfied: tokenizers in /home/jgpt/miniconda3/envs/mlc-chat-venv/lib/python3.11/site-packages (from litellm==1.16.21->autollm) (0.19.1)\n",
      "Requirement already satisfied: SQLAlchemy>=1.4.49 in /home/jgpt/miniconda3/envs/mlc-chat-venv/lib/python3.11/site-packages (from SQLAlchemy[asyncio]>=1.4.49->llama-index==0.9.27->autollm) (2.0.30)\n",
      "Requirement already satisfied: beautifulsoup4<5.0.0,>=4.12.2 in /home/jgpt/miniconda3/envs/mlc-chat-venv/lib/python3.11/site-packages (from llama-index==0.9.27->autollm) (4.12.3)\n",
      "Requirement already satisfied: dataclasses-json in /home/jgpt/miniconda3/envs/mlc-chat-venv/lib/python3.11/site-packages (from llama-index==0.9.27->autollm) (0.6.5)\n",
      "Requirement already satisfied: deprecated>=1.2.9.3 in /home/jgpt/miniconda3/envs/mlc-chat-venv/lib/python3.11/site-packages (from llama-index==0.9.27->autollm) (1.2.14)\n",
      "Requirement already satisfied: fsspec>=2023.5.0 in /home/jgpt/miniconda3/envs/mlc-chat-venv/lib/python3.11/site-packages (from llama-index==0.9.27->autollm) (2024.3.1)\n",
      "Requirement already satisfied: nest-asyncio<2.0.0,>=1.5.8 in /home/jgpt/miniconda3/envs/mlc-chat-venv/lib/python3.11/site-packages (from llama-index==0.9.27->autollm) (1.6.0)\n",
      "Requirement already satisfied: networkx>=3.0 in /home/jgpt/miniconda3/envs/mlc-chat-venv/lib/python3.11/site-packages (from llama-index==0.9.27->autollm) (3.3)\n",
      "Requirement already satisfied: nltk<4.0.0,>=3.8.1 in /home/jgpt/miniconda3/envs/mlc-chat-venv/lib/python3.11/site-packages (from llama-index==0.9.27->autollm) (3.8.1)\n",
      "Requirement already satisfied: numpy in /home/jgpt/miniconda3/envs/mlc-chat-venv/lib/python3.11/site-packages (from llama-index==0.9.27->autollm) (1.26.4)\n",
      "Requirement already satisfied: pandas in /home/jgpt/miniconda3/envs/mlc-chat-venv/lib/python3.11/site-packages (from llama-index==0.9.27->autollm) (2.2.2)\n",
      "Requirement already satisfied: tenacity<9.0.0,>=8.2.0 in /home/jgpt/miniconda3/envs/mlc-chat-venv/lib/python3.11/site-packages (from llama-index==0.9.27->autollm) (8.3.0)\n",
      "Requirement already satisfied: typing-extensions>=4.5.0 in /home/jgpt/miniconda3/envs/mlc-chat-venv/lib/python3.11/site-packages (from llama-index==0.9.27->autollm) (4.11.0)\n",
      "Requirement already satisfied: typing-inspect>=0.8.0 in /home/jgpt/miniconda3/envs/mlc-chat-venv/lib/python3.11/site-packages (from llama-index==0.9.27->autollm) (0.9.0)\n",
      "Requirement already satisfied: pyarrow>=10 in /home/jgpt/miniconda3/envs/mlc-chat-venv/lib/python3.11/site-packages (from pylance==0.8.17->lancedb==0.3.4->autollm) (16.0.0)\n",
      "Requirement already satisfied: langchain-community<0.1,>=0.0.38 in /home/jgpt/miniconda3/envs/mlc-chat-venv/lib/python3.11/site-packages (from langchain) (0.0.38)\n",
      "Requirement already satisfied: langchain-core<0.2.0,>=0.1.52 in /home/jgpt/miniconda3/envs/mlc-chat-venv/lib/python3.11/site-packages (from langchain) (0.1.52)\n",
      "Requirement already satisfied: langchain-text-splitters<0.1,>=0.0.1 in /home/jgpt/miniconda3/envs/mlc-chat-venv/lib/python3.11/site-packages (from langchain) (0.0.1)\n",
      "Requirement already satisfied: langsmith<0.2.0,>=0.1.17 in /home/jgpt/miniconda3/envs/mlc-chat-venv/lib/python3.11/site-packages (from langchain) (0.1.56)\n",
      "Requirement already satisfied: aiosignal>=1.1.2 in /home/jgpt/miniconda3/envs/mlc-chat-venv/lib/python3.11/site-packages (from aiohttp->lancedb==0.3.4->autollm) (1.3.1)\n",
      "Requirement already satisfied: frozenlist>=1.1.1 in /home/jgpt/miniconda3/envs/mlc-chat-venv/lib/python3.11/site-packages (from aiohttp->lancedb==0.3.4->autollm) (1.4.1)\n",
      "Requirement already satisfied: multidict<7.0,>=4.5 in /home/jgpt/miniconda3/envs/mlc-chat-venv/lib/python3.11/site-packages (from aiohttp->lancedb==0.3.4->autollm) (6.0.5)\n",
      "Requirement already satisfied: yarl<2.0,>=1.0 in /home/jgpt/miniconda3/envs/mlc-chat-venv/lib/python3.11/site-packages (from aiohttp->lancedb==0.3.4->autollm) (1.9.4)\n",
      "Requirement already satisfied: marshmallow<4.0.0,>=3.18.0 in /home/jgpt/miniconda3/envs/mlc-chat-venv/lib/python3.11/site-packages (from dataclasses-json->llama-index==0.9.27->autollm) (3.21.2)\n",
      "Requirement already satisfied: jsonpatch<2.0,>=1.33 in /home/jgpt/miniconda3/envs/mlc-chat-venv/lib/python3.11/site-packages (from langchain-core<0.2.0,>=0.1.52->langchain) (1.33)\n",
      "Requirement already satisfied: packaging<24.0,>=23.2 in /home/jgpt/miniconda3/envs/mlc-chat-venv/lib/python3.11/site-packages (from langchain-core<0.2.0,>=0.1.52->langchain) (23.2)\n",
      "Requirement already satisfied: orjson<4.0.0,>=3.9.14 in /home/jgpt/miniconda3/envs/mlc-chat-venv/lib/python3.11/site-packages (from langsmith<0.2.0,>=0.1.17->langchain) (3.10.3)\n",
      "Requirement already satisfied: annotated-types>=0.4.0 in /home/jgpt/miniconda3/envs/mlc-chat-venv/lib/python3.11/site-packages (from pydantic>=1.10->lancedb==0.3.4->autollm) (0.6.0)\n",
      "Requirement already satisfied: pydantic-core==2.18.2 in /home/jgpt/miniconda3/envs/mlc-chat-venv/lib/python3.11/site-packages (from pydantic>=1.10->lancedb==0.3.4->autollm) (2.18.2)\n",
      "Requirement already satisfied: charset-normalizer<4,>=2 in /home/jgpt/miniconda3/envs/mlc-chat-venv/lib/python3.11/site-packages (from requests>=2.31.0->lancedb==0.3.4->autollm) (3.3.2)\n",
      "Requirement already satisfied: idna<4,>=2.5 in /home/jgpt/miniconda3/envs/mlc-chat-venv/lib/python3.11/site-packages (from requests>=2.31.0->lancedb==0.3.4->autollm) (3.7)\n",
      "Requirement already satisfied: urllib3<3,>=1.21.1 in /home/jgpt/miniconda3/envs/mlc-chat-venv/lib/python3.11/site-packages (from requests>=2.31.0->lancedb==0.3.4->autollm) (2.2.1)\n",
      "Requirement already satisfied: greenlet!=0.4.17 in /home/jgpt/miniconda3/envs/mlc-chat-venv/lib/python3.11/site-packages (from SQLAlchemy>=1.4.49->SQLAlchemy[asyncio]>=1.4.49->llama-index==0.9.27->autollm) (3.0.3)\n",
      "Requirement already satisfied: starlette<0.38.0,>=0.37.2 in /home/jgpt/miniconda3/envs/mlc-chat-venv/lib/python3.11/site-packages (from fastapi->autollm) (0.37.2)\n",
      "Requirement already satisfied: anyio in /home/jgpt/miniconda3/envs/mlc-chat-venv/lib/python3.11/site-packages (from httpx->autollm) (4.2.0)\n",
      "Requirement already satisfied: httpcore==1.* in /home/jgpt/miniconda3/envs/mlc-chat-venv/lib/python3.11/site-packages (from httpx->autollm) (1.0.5)\n",
      "Requirement already satisfied: sniffio in /home/jgpt/miniconda3/envs/mlc-chat-venv/lib/python3.11/site-packages (from httpx->autollm) (1.3.0)\n",
      "Requirement already satisfied: h11<0.15,>=0.13 in /home/jgpt/miniconda3/envs/mlc-chat-venv/lib/python3.11/site-packages (from httpcore==1.*->httpx->autollm) (0.14.0)\n",
      "Requirement already satisfied: soupsieve>1.2 in /home/jgpt/miniconda3/envs/mlc-chat-venv/lib/python3.11/site-packages (from beautifulsoup4<5.0.0,>=4.12.2->llama-index==0.9.27->autollm) (2.5)\n",
      "Requirement already satisfied: wrapt<2,>=1.10 in /home/jgpt/miniconda3/envs/mlc-chat-venv/lib/python3.11/site-packages (from deprecated>=1.2.9.3->llama-index==0.9.27->autollm) (1.16.0)\n",
      "Requirement already satisfied: zipp>=0.5 in /home/jgpt/miniconda3/envs/mlc-chat-venv/lib/python3.11/site-packages (from importlib-metadata>=6.8.0->litellm==1.16.21->autollm) (3.18.1)\n",
      "Requirement already satisfied: MarkupSafe>=2.0 in /home/jgpt/miniconda3/envs/mlc-chat-venv/lib/python3.11/site-packages (from jinja2<4.0.0,>=3.1.2->litellm==1.16.21->autollm) (2.1.3)\n",
      "Requirement already satisfied: jsonpointer>=1.9 in /home/jgpt/miniconda3/envs/mlc-chat-venv/lib/python3.11/site-packages (from jsonpatch<2.0,>=1.33->langchain-core<0.2.0,>=0.1.52->langchain) (2.4)\n",
      "Requirement already satisfied: joblib in /home/jgpt/miniconda3/envs/mlc-chat-venv/lib/python3.11/site-packages (from nltk<4.0.0,>=3.8.1->llama-index==0.9.27->autollm) (1.4.2)\n",
      "Requirement already satisfied: regex>=2021.8.3 in /home/jgpt/miniconda3/envs/mlc-chat-venv/lib/python3.11/site-packages (from nltk<4.0.0,>=3.8.1->llama-index==0.9.27->autollm) (2024.4.16)\n",
      "Requirement already satisfied: distro<2,>=1.7.0 in /home/jgpt/miniconda3/envs/mlc-chat-venv/lib/python3.11/site-packages (from openai>=1.0.0->litellm==1.16.21->autollm) (1.9.0)\n",
      "Requirement already satisfied: decorator>=3.4.2 in /home/jgpt/miniconda3/envs/mlc-chat-venv/lib/python3.11/site-packages (from retry>=0.9.2->lancedb==0.3.4->autollm) (5.1.1)\n",
      "Requirement already satisfied: py<2.0.0,>=1.4.26 in /home/jgpt/miniconda3/envs/mlc-chat-venv/lib/python3.11/site-packages (from retry>=0.9.2->lancedb==0.3.4->autollm) (1.11.0)\n",
      "Requirement already satisfied: mypy-extensions>=0.3.0 in /home/jgpt/miniconda3/envs/mlc-chat-venv/lib/python3.11/site-packages (from typing-inspect>=0.8.0->llama-index==0.9.27->autollm) (1.0.0)\n",
      "Requirement already satisfied: python-dateutil>=2.8.2 in /home/jgpt/miniconda3/envs/mlc-chat-venv/lib/python3.11/site-packages (from pandas->llama-index==0.9.27->autollm) (2.8.2)\n",
      "Requirement already satisfied: pytz>=2020.1 in /home/jgpt/miniconda3/envs/mlc-chat-venv/lib/python3.11/site-packages (from pandas->llama-index==0.9.27->autollm) (2024.1)\n",
      "Requirement already satisfied: tzdata>=2022.7 in /home/jgpt/miniconda3/envs/mlc-chat-venv/lib/python3.11/site-packages (from pandas->llama-index==0.9.27->autollm) (2024.1)\n",
      "Requirement already satisfied: huggingface-hub<1.0,>=0.16.4 in /home/jgpt/miniconda3/envs/mlc-chat-venv/lib/python3.11/site-packages (from tokenizers->litellm==1.16.21->autollm) (0.23.0)\n",
      "Requirement already satisfied: filelock in /home/jgpt/miniconda3/envs/mlc-chat-venv/lib/python3.11/site-packages (from huggingface-hub<1.0,>=0.16.4->tokenizers->litellm==1.16.21->autollm) (3.13.4)\n",
      "Requirement already satisfied: six>=1.5 in /home/jgpt/miniconda3/envs/mlc-chat-venv/lib/python3.11/site-packages (from python-dateutil>=2.8.2->pandas->llama-index==0.9.27->autollm) (1.16.0)\n"
     ]
    }
   ],
   "source": [
    "!pip install autollm langchain"
   ]
  },
  {
   "cell_type": "code",
   "execution_count": 5,
   "id": "5ae53e3e-259b-45a0-bdad-9a3517ad833b",
   "metadata": {},
   "outputs": [
    {
     "name": "stdout",
     "output_type": "stream",
     "text": [
      "Requirement already satisfied: kaleido in /home/jgpt/miniconda3/envs/mlc-chat-venv/lib/python3.11/site-packages (0.2.1)\n",
      "Requirement already satisfied: cohere in /home/jgpt/miniconda3/envs/mlc-chat-venv/lib/python3.11/site-packages (5.3.5)\n",
      "Requirement already satisfied: langchain in /home/jgpt/miniconda3/envs/mlc-chat-venv/lib/python3.11/site-packages (0.1.19)\n",
      "Requirement already satisfied: pdfminer.six in /home/jgpt/miniconda3/envs/mlc-chat-venv/lib/python3.11/site-packages (20231228)\n",
      "Requirement already satisfied: fastavro<2.0.0,>=1.9.4 in /home/jgpt/miniconda3/envs/mlc-chat-venv/lib/python3.11/site-packages (from cohere) (1.9.4)\n",
      "Requirement already satisfied: httpx>=0.21.2 in /home/jgpt/miniconda3/envs/mlc-chat-venv/lib/python3.11/site-packages (from cohere) (0.27.0)\n",
      "Requirement already satisfied: httpx-sse<0.5.0,>=0.4.0 in /home/jgpt/miniconda3/envs/mlc-chat-venv/lib/python3.11/site-packages (from cohere) (0.4.0)\n",
      "Requirement already satisfied: pydantic>=1.9.2 in /home/jgpt/miniconda3/envs/mlc-chat-venv/lib/python3.11/site-packages (from cohere) (2.7.1)\n",
      "Requirement already satisfied: requests<3.0.0,>=2.0.0 in /home/jgpt/miniconda3/envs/mlc-chat-venv/lib/python3.11/site-packages (from cohere) (2.31.0)\n",
      "Requirement already satisfied: tokenizers<0.20,>=0.19 in /home/jgpt/miniconda3/envs/mlc-chat-venv/lib/python3.11/site-packages (from cohere) (0.19.1)\n",
      "Requirement already satisfied: types-requests<3.0.0,>=2.0.0 in /home/jgpt/miniconda3/envs/mlc-chat-venv/lib/python3.11/site-packages (from cohere) (2.31.0.20240406)\n",
      "Requirement already satisfied: typing_extensions>=4.0.0 in /home/jgpt/miniconda3/envs/mlc-chat-venv/lib/python3.11/site-packages (from cohere) (4.11.0)\n",
      "Requirement already satisfied: PyYAML>=5.3 in /home/jgpt/miniconda3/envs/mlc-chat-venv/lib/python3.11/site-packages (from langchain) (6.0.1)\n",
      "Requirement already satisfied: SQLAlchemy<3,>=1.4 in /home/jgpt/miniconda3/envs/mlc-chat-venv/lib/python3.11/site-packages (from langchain) (2.0.30)\n",
      "Requirement already satisfied: aiohttp<4.0.0,>=3.8.3 in /home/jgpt/miniconda3/envs/mlc-chat-venv/lib/python3.11/site-packages (from langchain) (3.9.5)\n",
      "Requirement already satisfied: dataclasses-json<0.7,>=0.5.7 in /home/jgpt/miniconda3/envs/mlc-chat-venv/lib/python3.11/site-packages (from langchain) (0.6.5)\n",
      "Requirement already satisfied: langchain-community<0.1,>=0.0.38 in /home/jgpt/miniconda3/envs/mlc-chat-venv/lib/python3.11/site-packages (from langchain) (0.0.38)\n",
      "Requirement already satisfied: langchain-core<0.2.0,>=0.1.52 in /home/jgpt/miniconda3/envs/mlc-chat-venv/lib/python3.11/site-packages (from langchain) (0.1.52)\n",
      "Requirement already satisfied: langchain-text-splitters<0.1,>=0.0.1 in /home/jgpt/miniconda3/envs/mlc-chat-venv/lib/python3.11/site-packages (from langchain) (0.0.1)\n",
      "Requirement already satisfied: langsmith<0.2.0,>=0.1.17 in /home/jgpt/miniconda3/envs/mlc-chat-venv/lib/python3.11/site-packages (from langchain) (0.1.56)\n",
      "Requirement already satisfied: numpy<2,>=1 in /home/jgpt/miniconda3/envs/mlc-chat-venv/lib/python3.11/site-packages (from langchain) (1.26.4)\n",
      "Requirement already satisfied: tenacity<9.0.0,>=8.1.0 in /home/jgpt/miniconda3/envs/mlc-chat-venv/lib/python3.11/site-packages (from langchain) (8.3.0)\n",
      "Requirement already satisfied: charset-normalizer>=2.0.0 in /home/jgpt/miniconda3/envs/mlc-chat-venv/lib/python3.11/site-packages (from pdfminer.six) (3.3.2)\n",
      "Requirement already satisfied: cryptography>=36.0.0 in /home/jgpt/miniconda3/envs/mlc-chat-venv/lib/python3.11/site-packages (from pdfminer.six) (42.0.7)\n",
      "Requirement already satisfied: aiosignal>=1.1.2 in /home/jgpt/miniconda3/envs/mlc-chat-venv/lib/python3.11/site-packages (from aiohttp<4.0.0,>=3.8.3->langchain) (1.3.1)\n",
      "Requirement already satisfied: attrs>=17.3.0 in /home/jgpt/miniconda3/envs/mlc-chat-venv/lib/python3.11/site-packages (from aiohttp<4.0.0,>=3.8.3->langchain) (23.2.0)\n",
      "Requirement already satisfied: frozenlist>=1.1.1 in /home/jgpt/miniconda3/envs/mlc-chat-venv/lib/python3.11/site-packages (from aiohttp<4.0.0,>=3.8.3->langchain) (1.4.1)\n",
      "Requirement already satisfied: multidict<7.0,>=4.5 in /home/jgpt/miniconda3/envs/mlc-chat-venv/lib/python3.11/site-packages (from aiohttp<4.0.0,>=3.8.3->langchain) (6.0.5)\n",
      "Requirement already satisfied: yarl<2.0,>=1.0 in /home/jgpt/miniconda3/envs/mlc-chat-venv/lib/python3.11/site-packages (from aiohttp<4.0.0,>=3.8.3->langchain) (1.9.4)\n",
      "Requirement already satisfied: cffi>=1.12 in /home/jgpt/miniconda3/envs/mlc-chat-venv/lib/python3.11/site-packages (from cryptography>=36.0.0->pdfminer.six) (1.16.0)\n",
      "Requirement already satisfied: marshmallow<4.0.0,>=3.18.0 in /home/jgpt/miniconda3/envs/mlc-chat-venv/lib/python3.11/site-packages (from dataclasses-json<0.7,>=0.5.7->langchain) (3.21.2)\n",
      "Requirement already satisfied: typing-inspect<1,>=0.4.0 in /home/jgpt/miniconda3/envs/mlc-chat-venv/lib/python3.11/site-packages (from dataclasses-json<0.7,>=0.5.7->langchain) (0.9.0)\n",
      "Requirement already satisfied: anyio in /home/jgpt/miniconda3/envs/mlc-chat-venv/lib/python3.11/site-packages (from httpx>=0.21.2->cohere) (4.2.0)\n",
      "Requirement already satisfied: certifi in /home/jgpt/miniconda3/envs/mlc-chat-venv/lib/python3.11/site-packages (from httpx>=0.21.2->cohere) (2023.11.17)\n",
      "Requirement already satisfied: httpcore==1.* in /home/jgpt/miniconda3/envs/mlc-chat-venv/lib/python3.11/site-packages (from httpx>=0.21.2->cohere) (1.0.5)\n",
      "Requirement already satisfied: idna in /home/jgpt/miniconda3/envs/mlc-chat-venv/lib/python3.11/site-packages (from httpx>=0.21.2->cohere) (3.7)\n",
      "Requirement already satisfied: sniffio in /home/jgpt/miniconda3/envs/mlc-chat-venv/lib/python3.11/site-packages (from httpx>=0.21.2->cohere) (1.3.0)\n",
      "Requirement already satisfied: h11<0.15,>=0.13 in /home/jgpt/miniconda3/envs/mlc-chat-venv/lib/python3.11/site-packages (from httpcore==1.*->httpx>=0.21.2->cohere) (0.14.0)\n",
      "Requirement already satisfied: jsonpatch<2.0,>=1.33 in /home/jgpt/miniconda3/envs/mlc-chat-venv/lib/python3.11/site-packages (from langchain-core<0.2.0,>=0.1.52->langchain) (1.33)\n",
      "Requirement already satisfied: packaging<24.0,>=23.2 in /home/jgpt/miniconda3/envs/mlc-chat-venv/lib/python3.11/site-packages (from langchain-core<0.2.0,>=0.1.52->langchain) (23.2)\n",
      "Requirement already satisfied: orjson<4.0.0,>=3.9.14 in /home/jgpt/miniconda3/envs/mlc-chat-venv/lib/python3.11/site-packages (from langsmith<0.2.0,>=0.1.17->langchain) (3.10.3)\n",
      "Requirement already satisfied: annotated-types>=0.4.0 in /home/jgpt/miniconda3/envs/mlc-chat-venv/lib/python3.11/site-packages (from pydantic>=1.9.2->cohere) (0.6.0)\n",
      "Requirement already satisfied: pydantic-core==2.18.2 in /home/jgpt/miniconda3/envs/mlc-chat-venv/lib/python3.11/site-packages (from pydantic>=1.9.2->cohere) (2.18.2)\n",
      "Requirement already satisfied: urllib3<3,>=1.21.1 in /home/jgpt/miniconda3/envs/mlc-chat-venv/lib/python3.11/site-packages (from requests<3.0.0,>=2.0.0->cohere) (2.2.1)\n",
      "Requirement already satisfied: greenlet!=0.4.17 in /home/jgpt/miniconda3/envs/mlc-chat-venv/lib/python3.11/site-packages (from SQLAlchemy<3,>=1.4->langchain) (3.0.3)\n",
      "Requirement already satisfied: huggingface-hub<1.0,>=0.16.4 in /home/jgpt/miniconda3/envs/mlc-chat-venv/lib/python3.11/site-packages (from tokenizers<0.20,>=0.19->cohere) (0.23.0)\n",
      "Requirement already satisfied: pycparser in /home/jgpt/miniconda3/envs/mlc-chat-venv/lib/python3.11/site-packages (from cffi>=1.12->cryptography>=36.0.0->pdfminer.six) (2.21)\n",
      "Requirement already satisfied: filelock in /home/jgpt/miniconda3/envs/mlc-chat-venv/lib/python3.11/site-packages (from huggingface-hub<1.0,>=0.16.4->tokenizers<0.20,>=0.19->cohere) (3.13.4)\n",
      "Requirement already satisfied: fsspec>=2023.5.0 in /home/jgpt/miniconda3/envs/mlc-chat-venv/lib/python3.11/site-packages (from huggingface-hub<1.0,>=0.16.4->tokenizers<0.20,>=0.19->cohere) (2024.3.1)\n",
      "Requirement already satisfied: tqdm>=4.42.1 in /home/jgpt/miniconda3/envs/mlc-chat-venv/lib/python3.11/site-packages (from huggingface-hub<1.0,>=0.16.4->tokenizers<0.20,>=0.19->cohere) (4.66.4)\n",
      "Requirement already satisfied: jsonpointer>=1.9 in /home/jgpt/miniconda3/envs/mlc-chat-venv/lib/python3.11/site-packages (from jsonpatch<2.0,>=1.33->langchain-core<0.2.0,>=0.1.52->langchain) (2.4)\n",
      "Requirement already satisfied: mypy-extensions>=0.3.0 in /home/jgpt/miniconda3/envs/mlc-chat-venv/lib/python3.11/site-packages (from typing-inspect<1,>=0.4.0->dataclasses-json<0.7,>=0.5.7->langchain) (1.0.0)\n"
     ]
    }
   ],
   "source": [
    "!pip install kaleido cohere langchain pdfminer.six"
   ]
  },
  {
   "cell_type": "code",
   "execution_count": 1,
   "id": "80a4bc91-5d4c-4373-bd02-c662df652aab",
   "metadata": {},
   "outputs": [],
   "source": [
    "!export HF_TOKEN=YOUR_TOKEN"
   ]
  },
  {
   "cell_type": "code",
   "execution_count": 1,
   "id": "88b17a2e-d538-47e3-a399-c5e45fb913b6",
   "metadata": {},
   "outputs": [],
   "source": [
    "from autollm.utils.document_reading import read_files_as_documents\n",
    "from transformers import AutoTokenizer, AutoModel\n",
    "import torch\n",
    "import hnswlib\n",
    "from langchain_text_splitters import RecursiveCharacterTextSplitter\n",
    "import re\n",
    "import numpy as np\n",
    "from mlc_llm import ChatModule"
   ]
  },
  {
   "cell_type": "code",
   "execution_count": 3,
   "id": "54e4603b-6f0c-4899-a7ed-2fb8c322fdb4",
   "metadata": {},
   "outputs": [
    {
     "name": "stdout",
     "output_type": "stream",
     "text": [
      "--2024-06-03 11:14:22--  https://manuals.coolblue.nl/e0/motorola-edge-30-ultra-256gb-grijs-5g.pdf\n",
      "Resolving manuals.coolblue.nl (manuals.coolblue.nl)... 108.156.83.77, 108.156.83.114, 108.156.83.98, ...\n",
      "Connecting to manuals.coolblue.nl (manuals.coolblue.nl)|108.156.83.77|:443... connected.\n",
      "HTTP request sent, awaiting response... 200 OK\n",
      "Length: 2160720 (2,1M) [application/octet-stream]\n",
      "Saving to: ‘motorola-edge-30-ultra-256gb-grijs-5g.pdf’\n",
      "\n",
      "motorola-edge-30-ul 100%[===================>]   2,06M  1,49MB/s    in 1,4s    \n",
      "\n",
      "2024-06-03 11:14:24 (1,49 MB/s) - ‘motorola-edge-30-ultra-256gb-grijs-5g.pdf’ saved [2160720/2160720]\n",
      "\n"
     ]
    }
   ],
   "source": [
    "!wget https://manuals.coolblue.nl/e0/motorola-edge-30-ultra-256gb-grijs-5g.pdf"
   ]
  },
  {
   "cell_type": "code",
   "execution_count": 4,
   "id": "f1aa8f77-068f-46a3-b3cb-eb8bd00ea3d8",
   "metadata": {},
   "outputs": [],
   "source": [
    "!mkdir -p data && mv *.pdf data/"
   ]
  },
  {
   "cell_type": "code",
   "execution_count": 2,
   "id": "81f44aa3-806c-456a-95ec-86bcbe0df436",
   "metadata": {},
   "outputs": [
    {
     "name": "stderr",
     "output_type": "stream",
     "text": [
      "2024-06-08 10:32:11,492 - autollm - INFO - Reading files from data/..\n",
      "Loading files: 100%|████████████████████████████| 1/1 [00:04<00:00,  4.54s/file]\n",
      "2024-06-08 10:32:16,065 - autollm - INFO - Found 1 'document(s)'.\n"
     ]
    }
   ],
   "source": [
    "required_exts = [\".pdf\"]\n",
    "documents = read_files_as_documents(input_dir=\"data/\", required_exts=required_exts)"
   ]
  },
  {
   "cell_type": "code",
   "execution_count": 3,
   "id": "be18b636-b2e9-49ae-b538-70d8c649c0b7",
   "metadata": {},
   "outputs": [],
   "source": [
    "text_splitter = RecursiveCharacterTextSplitter(\n",
    "    chunk_size=400,\n",
    "    chunk_overlap=40,\n",
    "    length_function=len,\n",
    "    is_separator_regex=False,\n",
    ")"
   ]
  },
  {
   "cell_type": "code",
   "execution_count": 4,
   "id": "5f12d457-89c4-4718-be35-3630039eb28b",
   "metadata": {},
   "outputs": [
    {
     "name": "stdout",
     "output_type": "stream",
     "text": [
      "4.46 ms ± 130 µs per loop (mean ± std. dev. of 7 runs, 10 loops each)\n"
     ]
    }
   ],
   "source": [
    "%%timeit -n 10\n",
    "texts = text_splitter.split_text(re.sub(\"\\\\n[0-9]+\", \"\", documents[0].text))"
   ]
  },
  {
   "cell_type": "code",
   "execution_count": 5,
   "id": "6fb52ca1-e28d-413c-a0ca-f90686f2e0ef",
   "metadata": {},
   "outputs": [
    {
     "data": {
      "text/plain": [
       "'User Guide\\n\\n\\x0c© 2022 Motorola Mobility LLC. All rights reserved.'"
      ]
     },
     "execution_count": 5,
     "metadata": {},
     "output_type": "execute_result"
    }
   ],
   "source": [
    "texts = text_splitter.split_text(re.sub(\"\\\\n[0-9]+\", \"\", documents[0].text))\n",
    "texts[0]"
   ]
  },
  {
   "cell_type": "code",
   "execution_count": 6,
   "id": "1f68034f-fa2e-4282-bf17-2883bdf4c22e",
   "metadata": {},
   "outputs": [
    {
     "name": "stderr",
     "output_type": "stream",
     "text": [
      "/home/jgpt/miniconda3/envs/mlc-chat-venv/lib/python3.11/site-packages/huggingface_hub/file_download.py:1132: FutureWarning: `resume_download` is deprecated and will be removed in version 1.0.0. Downloads always resume when possible. If you want to force a new download, use `force_download=True`.\n",
      "  warnings.warn(\n"
     ]
    },
    {
     "data": {
      "text/plain": [
       "BertModel(\n",
       "  (embeddings): BertEmbeddings(\n",
       "    (word_embeddings): Embedding(30522, 384, padding_idx=0)\n",
       "    (position_embeddings): Embedding(512, 384)\n",
       "    (token_type_embeddings): Embedding(2, 384)\n",
       "    (LayerNorm): LayerNorm((384,), eps=1e-12, elementwise_affine=True)\n",
       "    (dropout): Dropout(p=0.1, inplace=False)\n",
       "  )\n",
       "  (encoder): BertEncoder(\n",
       "    (layer): ModuleList(\n",
       "      (0-11): 12 x BertLayer(\n",
       "        (attention): BertAttention(\n",
       "          (self): BertSelfAttention(\n",
       "            (query): Linear(in_features=384, out_features=384, bias=True)\n",
       "            (key): Linear(in_features=384, out_features=384, bias=True)\n",
       "            (value): Linear(in_features=384, out_features=384, bias=True)\n",
       "            (dropout): Dropout(p=0.1, inplace=False)\n",
       "          )\n",
       "          (output): BertSelfOutput(\n",
       "            (dense): Linear(in_features=384, out_features=384, bias=True)\n",
       "            (LayerNorm): LayerNorm((384,), eps=1e-12, elementwise_affine=True)\n",
       "            (dropout): Dropout(p=0.1, inplace=False)\n",
       "          )\n",
       "        )\n",
       "        (intermediate): BertIntermediate(\n",
       "          (dense): Linear(in_features=384, out_features=1536, bias=True)\n",
       "          (intermediate_act_fn): GELUActivation()\n",
       "        )\n",
       "        (output): BertOutput(\n",
       "          (dense): Linear(in_features=1536, out_features=384, bias=True)\n",
       "          (LayerNorm): LayerNorm((384,), eps=1e-12, elementwise_affine=True)\n",
       "          (dropout): Dropout(p=0.1, inplace=False)\n",
       "        )\n",
       "      )\n",
       "    )\n",
       "  )\n",
       "  (pooler): BertPooler(\n",
       "    (dense): Linear(in_features=384, out_features=384, bias=True)\n",
       "    (activation): Tanh()\n",
       "  )\n",
       ")"
      ]
     },
     "execution_count": 6,
     "metadata": {},
     "output_type": "execute_result"
    }
   ],
   "source": [
    "tokenizer = AutoTokenizer.from_pretrained('BAAI/bge-small-en-v1.5')\n",
    "model = AutoModel.from_pretrained('BAAI/bge-small-en-v1.5')\n",
    "model.eval()"
   ]
  },
  {
   "cell_type": "code",
   "execution_count": 7,
   "id": "cd8e8673-8c63-43bc-9193-efdeb2fb2bfd",
   "metadata": {},
   "outputs": [
    {
     "name": "stdout",
     "output_type": "stream",
     "text": [
      "Sentence embeddings: tensor([[-0.0322, -0.0685, -0.0062,  ..., -0.0562,  0.0705, -0.0242],\n",
      "        [-0.0956, -0.0878,  0.0068,  ...,  0.0423,  0.1237, -0.0125],\n",
      "        [-0.0370, -0.0277,  0.0332,  ...,  0.0303,  0.0544, -0.0170],\n",
      "        [ 0.0062, -0.0548,  0.0408,  ..., -0.0252,  0.0500, -0.0154]])\n"
     ]
    }
   ],
   "source": [
    "# Sentences we want sentence embeddings for\n",
    "sentences = [\"This is bad\", \"This is good\", \"I love it\", \"I hate_it\"]\n",
    "\n",
    "# Tokenize sentences\n",
    "encoded_input = tokenizer(sentences, padding=True, truncation=True, return_tensors='pt')\n",
    "\n",
    "# Compute token embeddings\n",
    "with torch.no_grad():\n",
    "    model_output = model(**encoded_input)\n",
    "    # Perform pooling. In this case, cls pooling.\n",
    "    sentence_embeddings = model_output[0][:, 0]\n",
    "# normalize embeddings\n",
    "sentence_embeddings = torch.nn.functional.normalize(sentence_embeddings, p=2, dim=1)\n",
    "print(\"Sentence embeddings:\", sentence_embeddings)"
   ]
  },
  {
   "cell_type": "code",
   "execution_count": 8,
   "id": "575735ed-20c9-4a7a-a67d-f8b14fbe7eff",
   "metadata": {},
   "outputs": [
    {
     "data": {
      "text/plain": [
       "torch.Size([4, 384])"
      ]
     },
     "execution_count": 8,
     "metadata": {},
     "output_type": "execute_result"
    }
   ],
   "source": [
    "sentence_embeddings.shape"
   ]
  },
  {
   "cell_type": "code",
   "execution_count": 9,
   "id": "2fbcd6eb-b525-48c4-b1df-3c8953fc1ab2",
   "metadata": {},
   "outputs": [
    {
     "data": {
      "text/plain": [
       "993"
      ]
     },
     "execution_count": 9,
     "metadata": {},
     "output_type": "execute_result"
    }
   ],
   "source": [
    "len(texts)"
   ]
  },
  {
   "cell_type": "code",
   "execution_count": 10,
   "id": "8ce21b38-4c95-4515-805b-643d9fa7fade",
   "metadata": {},
   "outputs": [],
   "source": [
    "def embed_texts(texts):\n",
    "    encoded_input = tokenizer(texts, padding=True, truncation=True, return_tensors='pt')\n",
    "    with torch.no_grad():\n",
    "        model_output = model(**encoded_input)\n",
    "        sentence_embeddings = model_output[0][:, 0]\n",
    "    sentence_embeddings = torch.nn.functional.normalize(sentence_embeddings, p=2, dim=1)\n",
    "    return sentence_embeddings.numpy().astype(\"float32\")"
   ]
  },
  {
   "cell_type": "code",
   "execution_count": 11,
   "id": "d7ec879e-0935-49e5-bafb-dbc54ddfd543",
   "metadata": {},
   "outputs": [],
   "source": [
    "vectors = embed_texts(texts)"
   ]
  },
  {
   "cell_type": "code",
   "execution_count": 12,
   "id": "f4e13a15-6665-4f30-b4f8-7f51652ecc85",
   "metadata": {},
   "outputs": [
    {
     "data": {
      "text/plain": [
       "True"
      ]
     },
     "execution_count": 12,
     "metadata": {},
     "output_type": "execute_result"
    }
   ],
   "source": [
    "len(vectors) == len(texts)"
   ]
  },
  {
   "cell_type": "code",
   "execution_count": 24,
   "id": "e59480d4-9862-472f-8695-cd6d80c9efc6",
   "metadata": {},
   "outputs": [],
   "source": [
    "index = hnswlib.Index(space='l2', dim=sentence_embeddings[0].shape[0])\n",
    "index.init_index(max_elements=len(texts), ef_construction=64, M=48, random_seed=13)\n",
    "index.set_ef(16)\n",
    "index.add_items(vectors)"
   ]
  },
  {
   "cell_type": "code",
   "execution_count": 25,
   "id": "067a4f0d-9086-4542-ab76-41b0ce87f61c",
   "metadata": {},
   "outputs": [],
   "source": [
    "k = 3"
   ]
  },
  {
   "cell_type": "code",
   "execution_count": 26,
   "id": "78eedfdf-a12a-468a-8811-be48cb12f3b0",
   "metadata": {},
   "outputs": [
    {
     "name": "stdout",
     "output_type": "stream",
     "text": [
      "Recall: 0.998992950654582 \n",
      "\n"
     ]
    }
   ],
   "source": [
    "labels, distances = index.knn_query(vectors, k=3)\n",
    "print(\"Recall:\", np.mean(labels[:, 0].reshape(-1) == np.arange(len(vectors))), \"\\n\")"
   ]
  },
  {
   "cell_type": "code",
   "execution_count": 27,
   "id": "cb188a40-3d9d-44ed-a3ec-46d6db52c833",
   "metadata": {},
   "outputs": [],
   "source": [
    "queries = [\"How to charge?\", \"How to make a call?\", \"How to lower brightness?\", \n",
    "         \"How to take a screenshot?\", \"How do I add widgets to the home screen?\"] "
   ]
  },
  {
   "cell_type": "code",
   "execution_count": 28,
   "id": "cff8b159-2286-4275-a54e-5ca42f2edeec",
   "metadata": {},
   "outputs": [
    {
     "data": {
      "text/plain": [
       "array([-1.50921354e-02, -5.92661127e-02, -1.35472910e-02, -1.43884206e-02,\n",
       "        6.17421139e-03, -4.57389317e-02,  3.71115133e-02,  3.13305929e-02,\n",
       "        2.36260779e-02,  1.98866334e-02,  1.97941009e-02,  2.75531057e-02,\n",
       "       -4.39753458e-02,  4.78189997e-02,  5.42257428e-02,  6.27781376e-02,\n",
       "       -1.35392202e-02, -6.17502071e-02, -7.62310401e-02,  4.48892675e-02,\n",
       "        2.88034547e-02, -5.64563386e-02, -3.07297334e-02, -3.81534733e-02,\n",
       "       -2.31005158e-02,  8.24700762e-03,  6.73332997e-03,  1.33294836e-02,\n",
       "       -5.28629348e-02, -9.64294598e-02,  7.83366114e-02, -1.47186648e-02,\n",
       "        1.16645154e-02,  3.61419022e-02,  1.49251148e-02, -3.10490169e-02,\n",
       "       -3.54995430e-02, -5.14455885e-02, -1.10696824e-02,  2.42385850e-03,\n",
       "        3.96867692e-02,  3.66998278e-02, -9.16260555e-02, -7.52900615e-02,\n",
       "       -6.81578554e-03, -3.04054990e-02,  5.03519922e-02,  1.72017831e-02,\n",
       "        1.03679195e-01,  4.96558547e-02,  3.86297852e-02,  5.77494502e-04,\n",
       "       -4.96579846e-03, -6.97605908e-02, -3.56181152e-02,  5.79116046e-02,\n",
       "        4.30670604e-02,  1.84771735e-02,  4.97204028e-02, -5.00607602e-02,\n",
       "        5.04124165e-03,  9.89433192e-03, -1.14314616e-01,  1.13498330e-01,\n",
       "       -3.68409529e-02,  1.15924133e-02, -3.80125968e-03,  7.12515116e-02,\n",
       "       -1.95174105e-02,  8.62601399e-02, -1.19672734e-02, -2.63813790e-02,\n",
       "       -3.95793915e-02,  1.30130984e-02,  3.57082747e-02, -6.12668097e-02,\n",
       "        7.07645994e-03,  5.98196201e-02,  6.15662076e-02,  1.37987677e-02,\n",
       "       -6.43518418e-02, -4.04017791e-02, -3.46280821e-03,  8.90762731e-02,\n",
       "        1.23184882e-02, -1.36789242e-02,  2.26419177e-02,  1.23732584e-02,\n",
       "        8.63654818e-03,  5.49346395e-03, -4.79895528e-03, -8.51919688e-03,\n",
       "       -6.08099513e-02,  2.08574161e-03, -7.30048493e-02,  3.34758051e-02,\n",
       "        1.50285978e-02,  1.72196736e-03, -1.25197425e-01,  3.44795793e-01,\n",
       "        2.16104742e-02,  6.43931478e-02,  3.31434980e-02, -4.32201363e-02,\n",
       "       -3.95635664e-02, -6.97189197e-02, -4.21703234e-02,  4.03327383e-02,\n",
       "       -5.18252924e-02, -1.94736440e-02, -4.99607176e-02,  8.04436766e-03,\n",
       "        1.29589196e-02, -7.46300295e-02,  4.25701328e-02,  1.07556105e-01,\n",
       "       -6.23710528e-02, -2.32858174e-02,  4.11374681e-03, -8.65874439e-02,\n",
       "        3.47699574e-03,  4.60425857e-03, -2.05181800e-02, -7.44044373e-04,\n",
       "        4.46244776e-02, -4.69509363e-02,  4.08196673e-02,  7.55592361e-02,\n",
       "        6.60049554e-04,  7.98055604e-02,  3.79608348e-02, -7.01600015e-02,\n",
       "       -7.73014575e-02,  3.92696587e-03,  1.99886430e-02, -3.18222977e-02,\n",
       "        2.17629671e-02,  2.02199109e-02,  1.16873598e-02,  4.91893180e-02,\n",
       "       -3.04537062e-02, -6.77953213e-02,  2.13587470e-03, -5.99026270e-02,\n",
       "       -1.65466927e-02,  3.41068208e-02,  8.15024786e-03,  7.64315529e-03,\n",
       "        7.94963073e-03, -5.63708320e-02, -1.18394569e-03, -1.47590442e-02,\n",
       "       -1.57530271e-02, -6.08472638e-02,  4.70612533e-02,  5.73228523e-02,\n",
       "        6.11012094e-02, -3.96972187e-02, -1.73617676e-02,  1.14259012e-02,\n",
       "       -3.49711138e-03,  9.19757783e-03, -5.41623197e-02,  1.06723227e-01,\n",
       "        1.04214577e-02, -6.59549907e-02, -8.39067856e-04, -4.24908474e-02,\n",
       "       -4.62306244e-03, -2.50941198e-02, -4.35980819e-02,  6.68188110e-02,\n",
       "       -7.61118010e-02,  4.30425331e-02,  1.26710936e-01, -5.04554771e-02,\n",
       "        2.91130063e-03,  2.47063786e-02,  1.60214445e-03, -2.28701048e-02,\n",
       "        1.67619623e-02,  2.19518412e-02, -1.53015228e-02, -2.17490550e-02,\n",
       "       -2.40580551e-03, -8.39494318e-02, -2.76669208e-02, -5.85218593e-02,\n",
       "        2.71441159e-03,  1.89778507e-02, -2.57933214e-02,  1.60936378e-02,\n",
       "       -4.94863726e-02,  3.04638166e-02, -4.94165458e-02,  2.83066388e-02,\n",
       "       -2.13386863e-02, -1.26190539e-02,  1.22443344e-02,  2.66746394e-02,\n",
       "        8.85688961e-02, -5.37190177e-02, -4.41071875e-02,  4.75325920e-02,\n",
       "        4.34581265e-02,  4.78829443e-02,  4.72579226e-02,  4.36875708e-02,\n",
       "        5.49886599e-02, -2.29995176e-02,  6.05724342e-02,  3.57135721e-02,\n",
       "        1.27538979e-01,  2.81642247e-02, -4.74783815e-02, -1.71876308e-02,\n",
       "       -1.42150279e-02,  2.98780538e-02, -4.69821831e-03, -5.08586317e-03,\n",
       "       -2.34583691e-02, -6.60912693e-02,  6.71376213e-02, -2.69767106e-01,\n",
       "        6.90336600e-02,  5.51890880e-02,  6.24178816e-03, -2.49776375e-02,\n",
       "       -4.38420363e-02,  1.12115324e-01, -2.44832058e-02, -3.15417461e-02,\n",
       "        6.42722398e-02,  6.78701326e-02, -1.08624838e-01,  3.98408063e-02,\n",
       "       -3.43880318e-02,  4.77657020e-02,  6.80985153e-02,  2.98741423e-02,\n",
       "        3.69715393e-02,  5.13179004e-02,  2.08346378e-02, -3.30006443e-02,\n",
       "       -8.91359709e-03,  1.03357593e-02, -9.73228179e-03,  5.01938276e-02,\n",
       "       -1.69083085e-02,  1.75386325e-01,  2.83756219e-02,  2.54919920e-02,\n",
       "       -1.18719535e-02,  8.61606896e-02, -2.63503827e-02, -4.11222316e-02,\n",
       "       -9.61323529e-02, -3.09941694e-02,  1.12722162e-02, -4.95928191e-02,\n",
       "        7.30912201e-03,  1.03459833e-02, -9.27576504e-04, -1.14944391e-02,\n",
       "       -1.71004760e-03, -5.23504876e-02,  5.24033327e-03,  9.12319124e-03,\n",
       "        6.29252344e-02, -6.55208454e-02,  9.76266060e-03, -4.88247443e-03,\n",
       "       -4.00538482e-02,  3.48169804e-02, -6.25707433e-02, -1.22873792e-02,\n",
       "       -1.55581813e-02, -2.72513949e-03, -5.17919399e-02, -4.53709923e-02,\n",
       "        2.59586535e-02, -3.69429849e-02, -1.39737306e-02,  3.87041382e-02,\n",
       "        2.56893374e-02,  3.98670556e-03, -2.08280887e-02,  4.53567617e-02,\n",
       "        1.26015050e-02,  2.24535577e-02, -4.35076701e-03,  6.41954457e-03,\n",
       "       -2.93047689e-02, -2.78463885e-02,  1.90532897e-02, -1.97293572e-02,\n",
       "        3.09584588e-02,  8.27914197e-03,  3.71658430e-02,  4.21189107e-02,\n",
       "       -6.08936371e-03, -5.61138391e-02, -2.08435021e-02, -2.32521426e-02,\n",
       "        2.25345884e-02,  1.98242180e-02,  1.94668118e-03, -4.59002983e-03,\n",
       "        7.50731751e-02, -2.23942790e-02, -3.02848462e-02,  7.51147105e-04,\n",
       "       -8.69193375e-02, -5.58722094e-02, -4.98885475e-03, -9.61388461e-03,\n",
       "       -2.07026652e-03, -3.74572992e-04, -4.69064899e-02, -2.19362959e-01,\n",
       "        1.46942567e-02, -6.58756029e-03,  6.33530021e-02, -3.54818515e-02,\n",
       "        7.05176033e-03,  5.16868457e-02,  1.19358338e-02, -5.62420189e-02,\n",
       "        6.10313332e-03, -8.36534891e-03,  1.94727276e-02, -4.78709452e-02,\n",
       "        5.56420349e-03,  6.19441383e-02, -1.52781969e-02,  7.34814778e-02,\n",
       "       -4.40927595e-02,  1.54335182e-02, -3.17856483e-02,  4.24472354e-02,\n",
       "       -1.34048117e-02,  1.28351435e-01, -3.81385647e-02,  2.97542457e-02,\n",
       "       -1.38117122e-02, -4.60631922e-02,  7.09318966e-02,  9.10658017e-02,\n",
       "       -1.41399531e-02, -3.33235823e-02, -1.99395604e-02,  2.06388347e-02,\n",
       "       -4.22898680e-02,  6.07352518e-02, -6.16333596e-02, -4.28215675e-02,\n",
       "        1.68767991e-03,  1.56907048e-02, -2.26895027e-02, -4.76089194e-02,\n",
       "        2.56209336e-02, -2.46731974e-02, -1.16937729e-02,  4.06570882e-02,\n",
       "        5.86909056e-03, -2.70671900e-02, -3.60873342e-02, -3.87071110e-02,\n",
       "        3.61716673e-02,  1.01297591e-02,  4.25118895e-04, -5.03230421e-03,\n",
       "        4.34182808e-02,  6.08097985e-02,  4.82231146e-03, -3.25414687e-02,\n",
       "       -8.97316859e-05, -6.14996022e-03, -6.87837321e-03, -4.55916151e-02,\n",
       "       -4.99237217e-02,  6.93270341e-02, -1.09486058e-02,  3.45628075e-02],\n",
       "      dtype=float32)"
      ]
     },
     "execution_count": 28,
     "metadata": {},
     "output_type": "execute_result"
    }
   ],
   "source": [
    "embed_texts(queries)[0]"
   ]
  },
  {
   "cell_type": "code",
   "execution_count": 44,
   "id": "e85eab3b-8445-4285-8ba5-4cefe24f58eb",
   "metadata": {},
   "outputs": [
    {
     "name": "stdout",
     "output_type": "stream",
     "text": [
      "CPU times: user 288 ms, sys: 0 ns, total: 288 ms\n",
      "Wall time: 22.8 ms\n"
     ]
    }
   ],
   "source": [
    "%%time\n",
    "labels, distances = index.knn_query(embed_texts(queries), k=3)"
   ]
  },
  {
   "cell_type": "code",
   "execution_count": 45,
   "id": "9b65a51a-5e0b-4060-8452-9ba306a92ddc",
   "metadata": {},
   "outputs": [
    {
     "data": {
      "text/plain": [
       "array([[586, 910, 589],\n",
       "       [409, 411, 424],\n",
       "       [660, 661, 265],\n",
       "       [139, 140, 141],\n",
       "       [199, 198,  61]], dtype=uint64)"
      ]
     },
     "execution_count": 45,
     "metadata": {},
     "output_type": "execute_result"
    }
   ],
   "source": [
    "labels"
   ]
  },
  {
   "cell_type": "code",
   "execution_count": 46,
   "id": "b6d11935-d8de-43c0-8ab0-b80d30941af0",
   "metadata": {},
   "outputs": [
    {
     "name": "stdout",
     "output_type": "stream",
     "text": [
      "Query: How do I add widgets to the home screen?\n",
      "-----------------------------------\n",
      "\n",
      "Match score: 0.4159982204437256\n",
      "Touch & hold a widget to add it.\\n\\nAdjust widget's size\\n\\nYou can make some widgets larger to view more content:\\n.\\n\\nTouch & hold the widget until it's highlighted.\\n. Release it to see an outline.\\n. Drag a corner or side to resize.\\n\\nAdd app shortcuts\\n.\\n.\\n\\nSwipe up from the bottom of the home screen to open your app tray.\n",
      "-----------------------------------\n",
      "\n",
      "Match score: 0.4204174280166626\n",
      "Use widgets, shortcuts, or folders\\n\\nAdd widgets\\n\\nWidgets stream information, giving some of an app’s functionality without opening the app. For example, \\nthe Calendar widget shows your daily agenda and gives you one-touch access to your full calendar.\\n\\nAdd a widget\\n.\\n.\\n\\nTouch & hold the home screen.\\n\\nTouch Widgets.\\n\\nWidgets are listed under their related apps.\\n.\\n\\nTouch & hold a widget to add it.\n",
      "-----------------------------------\n",
      "\n",
      "Match score: 0.45211929082870483\n",
      "Add/remove screens\\n\\nYou can add more home screens to the right. To add a page, drag an app shortcut or widget to the edge of \\nan existing page and place it on the new screen.\\n\\n \\n \\n\f",
      "Learn the basics\\n\\n\\nTo remove a home screen, drag all apps, shortcuts, widgets, and folders off the screen. After you remove the \\nlast item, the home screen will be removed.\\n\\nCustomize your home screen\\n\\nOrganize it:\\n\\n•\n"
     ]
    }
   ],
   "source": [
    "q = 4\n",
    "query = queries[q]\n",
    "print(f\"Query: {query}\")\n",
    "for match, dist in zip(labels[q], distances[q]):\n",
    "    print('-'*35)\n",
    "    print()\n",
    "    print(f\"Match score: {dist}\")\n",
    "    print(texts[match].replace(\"\\n\", \"\\\\n\"))"
   ]
  },
  {
   "cell_type": "code",
   "execution_count": 32,
   "id": "3e55152c-4f4c-4346-88c5-9899b844692f",
   "metadata": {},
   "outputs": [
    {
     "name": "stdout",
     "output_type": "stream",
     "text": [
      "libs  models  TinyLlama-1.1B-Chat-v1.0-MLC\n",
      "TinyLlama-1.1B-Chat-v1.0-q4f32_1-vulkan.so\n"
     ]
    },
    {
     "name": "stderr",
     "output_type": "stream",
     "text": [
      "huggingface/tokenizers: The current process just got forked, after parallelism has already been used. Disabling parallelism to avoid deadlocks...\n",
      "To disable this warning, you can either:\n",
      "\t- Avoid using `tokenizers` before the fork if possible\n",
      "\t- Explicitly set the environment variable TOKENIZERS_PARALLELISM=(true | false)\n",
      "huggingface/tokenizers: The current process just got forked, after parallelism has already been used. Disabling parallelism to avoid deadlocks...\n",
      "To disable this warning, you can either:\n",
      "\t- Avoid using `tokenizers` before the fork if possible\n",
      "\t- Explicitly set the environment variable TOKENIZERS_PARALLELISM=(true | false)\n"
     ]
    }
   ],
   "source": [
    "!ls ../dist\n",
    "!ls ../dist/libs"
   ]
  },
  {
   "cell_type": "code",
   "execution_count": 33,
   "id": "f0ad8d7a-b17e-4135-a303-62409e622b0b",
   "metadata": {},
   "outputs": [
    {
     "name": "stderr",
     "output_type": "stream",
     "text": [
      "INFO:mlc_llm.support.auto_device:\u001b[91mNot found\u001b[0m device: cuda:0\n",
      "INFO:mlc_llm.support.auto_device:\u001b[91mNot found\u001b[0m device: rocm:0\n",
      "INFO:mlc_llm.support.auto_device:\u001b[91mNot found\u001b[0m device: metal:0\n",
      "INFO:mlc_llm.support.auto_device:\u001b[92mFound\u001b[0m device: vulkan:0\n",
      "INFO:mlc_llm.support.auto_device:\u001b[92mFound\u001b[0m device: vulkan:1\n",
      "INFO:mlc_llm.support.auto_device:\u001b[92mFound\u001b[0m device: vulkan:2\n",
      "INFO:mlc_llm.support.auto_device:\u001b[91mNot found\u001b[0m device: opencl:0\n",
      "INFO:mlc_llm.support.auto_device:Using device: \u001b[1mvulkan:0\u001b[0m\n",
      "INFO:mlc_llm.chat_module:Using model folder: /home/jgpt/luxai/llms/mlc-llm/dist/TinyLlama-1.1B-Chat-v1.0-MLC\n",
      "INFO:mlc_llm.chat_module:Using mlc chat config: /home/jgpt/luxai/llms/mlc-llm/dist/TinyLlama-1.1B-Chat-v1.0-MLC/mlc-chat-config.json\n",
      "INFO:mlc_llm.chat_module:Using library model: ../dist/libs/TinyLlama-1.1B-Chat-v1.0-q4f32_1-vulkan.so\n",
      "[2024-06-03 11:31:35] INFO model_metadata.py:96: \u001b[92mTotal memory usage\u001b[0m: 716.24 MB (Parameters: 590.24 MB. KVCache: 0.00 MB. Temporary buffer: 126.00 MB)\n",
      "[2024-06-03 11:31:35] INFO model_metadata.py:105: To reduce memory usage, tweak `prefill_chunk_size`, `context_window_size` and `sliding_window_size`\n"
     ]
    }
   ],
   "source": [
    "cm = ChatModule(model=\"../dist/TinyLlama-1.1B-Chat-v1.0-MLC\", model_lib=\"../dist/libs/TinyLlama-1.1B-Chat-v1.0-q4f32_1-vulkan.so\")"
   ]
  },
  {
   "cell_type": "code",
   "execution_count": 34,
   "id": "33f8dc0d-bb7c-4193-81f5-31543042a5d6",
   "metadata": {},
   "outputs": [
    {
     "name": "stdout",
     "output_type": "stream",
     "text": [
      "To add widgets to the home screen, you need to select \"Widgets\" in the app drawer and then tap on \"Widgets\" in the list. From there, you can add widgets to the home screen by swiping down on the widget you want to add and selecting \"Add Widget\" or \"Add App\" from the list. From there, you can select the widget you want to add and add it to the home screen.\n"
     ]
    }
   ],
   "source": [
    "print(cm.generate(query))"
   ]
  },
  {
   "cell_type": "code",
   "execution_count": 35,
   "id": "2bfcb9ed-1542-4ba1-938b-9b0cf6885596",
   "metadata": {},
   "outputs": [
    {
     "data": {
      "text/plain": [
       "'prefill: 69.9 tok/s, decode: 159.6 tok/s'"
      ]
     },
     "execution_count": 35,
     "metadata": {},
     "output_type": "execute_result"
    }
   ],
   "source": [
    "cm.stats()"
   ]
  },
  {
   "cell_type": "code",
   "execution_count": 43,
   "id": "1f4ab7ec-97ab-465e-910f-ec5d07b3c3a4",
   "metadata": {},
   "outputs": [],
   "source": [
    "cm.reset_chat()"
   ]
  },
  {
   "cell_type": "code",
   "execution_count": 37,
   "id": "1baa17ad-feb3-441c-b499-89b86df6108b",
   "metadata": {},
   "outputs": [],
   "source": [
    "def prompt_formatter(query, context_list):\n",
    "    sep = \" [CONTEXT_SEP] \"\n",
    "    return f\"\"\"\"Please, use the context below to anwer the query. Use only the context discard all previous knowledge except user messages.\n",
    "Absorb the context as if it was not given. Answer honestly and in simple words. \n",
    "Do not necessarily use all of the context as it may contain irrelevant information.\n",
    "Reply with a step by step process to fulfill the user's needs.\n",
    "If you don't know the answer, simply state so. Here's the context:\n",
    "{sep}{sep.join(context_list)}{sep}\n",
    "Here's the query:\n",
    "{query}\n",
    "\"\"\""
   ]
  },
  {
   "cell_type": "code",
   "execution_count": 47,
   "id": "f4cde096-5652-4b04-86da-0fa38360c66f",
   "metadata": {},
   "outputs": [
    {
     "name": "stdout",
     "output_type": "stream",
     "text": [
      "CPU times: user 53 µs, sys: 12 µs, total: 65 µs\n",
      "Wall time: 75.1 µs\n"
     ]
    }
   ],
   "source": [
    "%%time\n",
    "context_list = list([texts[match].replace(\"\\n\", \"\") for match in labels[q]])\n",
    "prompt = prompt_formatter(query, context_list).replace(\" [CONTEXT_SEP] \", \"\\n\\n\")"
   ]
  },
  {
   "cell_type": "code",
   "execution_count": 48,
   "id": "e4c76d97-fd32-4427-ae2a-c51f5ea3b48e",
   "metadata": {},
   "outputs": [
    {
     "name": "stdout",
     "output_type": "stream",
     "text": [
      "\"Please, use the context below to anwer the query. Use only the context discard all previous knowledge except user messages.\n",
      "Absorb the context as if it was not given. Answer honestly and in simple words. \n",
      "Do not necessarily use all of the context as it may contain irrelevant information.\n",
      "Reply with a step by step process to fulfill the user's needs.\n",
      "If you don't know the answer, simply state so. Here's the context:\n",
      "\n",
      "\n",
      "Touch & hold a widget to add it.Adjust widget's sizeYou can make some widgets larger to view more content:.Touch & hold the widget until it's highlighted.. Release it to see an outline.. Drag a corner or side to resize.Add app shortcuts..Swipe up from the bottom of the home screen to open your app tray.\n",
      "\n",
      "Use widgets, shortcuts, or foldersAdd widgetsWidgets stream information, giving some of an app’s functionality without opening the app. For example, the Calendar widget shows your daily agenda and gives you one-touch access to your full calendar.Add a widget..Touch & hold the home screen.Touch Widgets.Widgets are listed under their related apps..Touch & hold a widget to add it.\n",
      "\n",
      "Add/remove screensYou can add more home screens to the right. To add a page, drag an app shortcut or widget to the edge of an existing page and place it on the new screen.  \f",
      "Learn the basicsTo remove a home screen, drag all apps, shortcuts, widgets, and folders off the screen. After you remove the last item, the home screen will be removed.Customize your home screenOrganize it:•\n",
      "\n",
      "\n",
      "Here's the query:\n",
      "How do I add widgets to the home screen?\n",
      "\n"
     ]
    }
   ],
   "source": [
    "print(prompt)"
   ]
  },
  {
   "cell_type": "code",
   "execution_count": 49,
   "id": "a38af10b-ba76-4862-a94b-96b6f9db8bb8",
   "metadata": {},
   "outputs": [
    {
     "name": "stdout",
     "output_type": "stream",
     "text": [
      "Sure, I'd be happy to help you add widgets to your home screen. Here's how to do it:\n",
      "\n",
      "1. Touch and hold a widget on the home screen. This will bring up a pop-up menu. 2. Select \"Add to Home Screen\" or \"Add Widget.\" This will add the widget to your home screen. 3. Repeat step 2 for any additional widgets you want to add. 4. Once you've added all the widgets you want to add, you can swipe up from the bottom of the home screen to reveal the app tray. 5. Drag and drop any widgets you want to move to different locations on the home screen. Remember to adjust the widget's size and orientation as needed. If you need more information or have any questions, please feel free to ask.\n"
     ]
    }
   ],
   "source": [
    "print(cm.generate(prompt))"
   ]
  },
  {
   "cell_type": "code",
   "execution_count": 51,
   "id": "d2a3ad77-48ac-423c-8e46-385ffce59078",
   "metadata": {},
   "outputs": [
    {
     "data": {
      "text/plain": [
       "'prefill: 278.3 tok/s, decode: 127.4 tok/s'"
      ]
     },
     "execution_count": 51,
     "metadata": {},
     "output_type": "execute_result"
    }
   ],
   "source": [
    "cm.stats()"
   ]
  },
  {
   "cell_type": "code",
   "execution_count": 13,
   "id": "7af96c8f-3e17-41e6-b735-6135a8081285",
   "metadata": {},
   "outputs": [],
   "source": [
    "import pandas as pd"
   ]
  },
  {
   "cell_type": "code",
   "execution_count": 57,
   "id": "ce43bf5a-d5b5-4330-8f31-428c5150246f",
   "metadata": {},
   "outputs": [
    {
     "data": {
      "text/html": [
       "<div>\n",
       "<style scoped>\n",
       "    .dataframe tbody tr th:only-of-type {\n",
       "        vertical-align: middle;\n",
       "    }\n",
       "\n",
       "    .dataframe tbody tr th {\n",
       "        vertical-align: top;\n",
       "    }\n",
       "\n",
       "    .dataframe thead th {\n",
       "        text-align: right;\n",
       "    }\n",
       "</style>\n",
       "<table border=\"1\" class=\"dataframe\">\n",
       "  <thead>\n",
       "    <tr style=\"text-align: right;\">\n",
       "      <th></th>\n",
       "      <th>0</th>\n",
       "      <th>1</th>\n",
       "      <th>2</th>\n",
       "      <th>3</th>\n",
       "      <th>4</th>\n",
       "      <th>5</th>\n",
       "      <th>6</th>\n",
       "      <th>7</th>\n",
       "      <th>8</th>\n",
       "      <th>9</th>\n",
       "      <th>...</th>\n",
       "      <th>374</th>\n",
       "      <th>375</th>\n",
       "      <th>376</th>\n",
       "      <th>377</th>\n",
       "      <th>378</th>\n",
       "      <th>379</th>\n",
       "      <th>380</th>\n",
       "      <th>381</th>\n",
       "      <th>382</th>\n",
       "      <th>383</th>\n",
       "    </tr>\n",
       "  </thead>\n",
       "  <tbody>\n",
       "    <tr>\n",
       "      <th>0</th>\n",
       "      <td>-0.032842</td>\n",
       "      <td>-0.009280</td>\n",
       "      <td>0.055022</td>\n",
       "      <td>-0.067724</td>\n",
       "      <td>-0.065440</td>\n",
       "      <td>0.002377</td>\n",
       "      <td>0.048005</td>\n",
       "      <td>0.056406</td>\n",
       "      <td>-0.025758</td>\n",
       "      <td>-0.070270</td>\n",
       "      <td>...</td>\n",
       "      <td>0.019427</td>\n",
       "      <td>0.045021</td>\n",
       "      <td>-0.074454</td>\n",
       "      <td>-0.001336</td>\n",
       "      <td>-0.004688</td>\n",
       "      <td>0.052351</td>\n",
       "      <td>-0.024116</td>\n",
       "      <td>0.051638</td>\n",
       "      <td>-0.030786</td>\n",
       "      <td>0.073155</td>\n",
       "    </tr>\n",
       "    <tr>\n",
       "      <th>1</th>\n",
       "      <td>-0.023873</td>\n",
       "      <td>0.048052</td>\n",
       "      <td>0.006810</td>\n",
       "      <td>-0.053566</td>\n",
       "      <td>-0.030990</td>\n",
       "      <td>-0.028661</td>\n",
       "      <td>0.025102</td>\n",
       "      <td>0.064557</td>\n",
       "      <td>0.027655</td>\n",
       "      <td>-0.016102</td>\n",
       "      <td>...</td>\n",
       "      <td>0.002928</td>\n",
       "      <td>0.017251</td>\n",
       "      <td>-0.009519</td>\n",
       "      <td>0.015610</td>\n",
       "      <td>-0.012487</td>\n",
       "      <td>-0.035733</td>\n",
       "      <td>0.020936</td>\n",
       "      <td>0.011260</td>\n",
       "      <td>0.059333</td>\n",
       "      <td>0.072543</td>\n",
       "    </tr>\n",
       "    <tr>\n",
       "      <th>2</th>\n",
       "      <td>0.003668</td>\n",
       "      <td>0.009179</td>\n",
       "      <td>0.002667</td>\n",
       "      <td>-0.037524</td>\n",
       "      <td>0.005546</td>\n",
       "      <td>0.006663</td>\n",
       "      <td>0.024300</td>\n",
       "      <td>0.044484</td>\n",
       "      <td>-0.044615</td>\n",
       "      <td>0.011683</td>\n",
       "      <td>...</td>\n",
       "      <td>-0.010781</td>\n",
       "      <td>-0.002022</td>\n",
       "      <td>-0.032474</td>\n",
       "      <td>0.018512</td>\n",
       "      <td>-0.058308</td>\n",
       "      <td>-0.018376</td>\n",
       "      <td>-0.059382</td>\n",
       "      <td>-0.002678</td>\n",
       "      <td>0.095009</td>\n",
       "      <td>0.003649</td>\n",
       "    </tr>\n",
       "    <tr>\n",
       "      <th>3</th>\n",
       "      <td>-0.051996</td>\n",
       "      <td>-0.039681</td>\n",
       "      <td>-0.014135</td>\n",
       "      <td>-0.044073</td>\n",
       "      <td>-0.002645</td>\n",
       "      <td>-0.046867</td>\n",
       "      <td>0.023784</td>\n",
       "      <td>0.021076</td>\n",
       "      <td>-0.022028</td>\n",
       "      <td>-0.014570</td>\n",
       "      <td>...</td>\n",
       "      <td>-0.001654</td>\n",
       "      <td>-0.003693</td>\n",
       "      <td>0.004831</td>\n",
       "      <td>-0.012200</td>\n",
       "      <td>-0.015481</td>\n",
       "      <td>0.044360</td>\n",
       "      <td>-0.030640</td>\n",
       "      <td>0.002872</td>\n",
       "      <td>-0.002635</td>\n",
       "      <td>-0.035926</td>\n",
       "    </tr>\n",
       "    <tr>\n",
       "      <th>4</th>\n",
       "      <td>-0.020502</td>\n",
       "      <td>0.013924</td>\n",
       "      <td>0.061473</td>\n",
       "      <td>-0.073522</td>\n",
       "      <td>0.006217</td>\n",
       "      <td>-0.020361</td>\n",
       "      <td>0.032393</td>\n",
       "      <td>-0.017513</td>\n",
       "      <td>-0.060253</td>\n",
       "      <td>0.009719</td>\n",
       "      <td>...</td>\n",
       "      <td>0.011188</td>\n",
       "      <td>-0.008813</td>\n",
       "      <td>-0.037562</td>\n",
       "      <td>0.030086</td>\n",
       "      <td>-0.002388</td>\n",
       "      <td>0.038226</td>\n",
       "      <td>0.003376</td>\n",
       "      <td>0.019694</td>\n",
       "      <td>0.082184</td>\n",
       "      <td>0.005778</td>\n",
       "    </tr>\n",
       "    <tr>\n",
       "      <th>...</th>\n",
       "      <td>...</td>\n",
       "      <td>...</td>\n",
       "      <td>...</td>\n",
       "      <td>...</td>\n",
       "      <td>...</td>\n",
       "      <td>...</td>\n",
       "      <td>...</td>\n",
       "      <td>...</td>\n",
       "      <td>...</td>\n",
       "      <td>...</td>\n",
       "      <td>...</td>\n",
       "      <td>...</td>\n",
       "      <td>...</td>\n",
       "      <td>...</td>\n",
       "      <td>...</td>\n",
       "      <td>...</td>\n",
       "      <td>...</td>\n",
       "      <td>...</td>\n",
       "      <td>...</td>\n",
       "      <td>...</td>\n",
       "      <td>...</td>\n",
       "    </tr>\n",
       "    <tr>\n",
       "      <th>988</th>\n",
       "      <td>-0.041090</td>\n",
       "      <td>0.033759</td>\n",
       "      <td>0.058024</td>\n",
       "      <td>-0.085470</td>\n",
       "      <td>-0.058646</td>\n",
       "      <td>-0.023672</td>\n",
       "      <td>0.016125</td>\n",
       "      <td>0.020488</td>\n",
       "      <td>-0.006848</td>\n",
       "      <td>-0.025886</td>\n",
       "      <td>...</td>\n",
       "      <td>0.080674</td>\n",
       "      <td>-0.050265</td>\n",
       "      <td>-0.012867</td>\n",
       "      <td>0.059968</td>\n",
       "      <td>-0.040027</td>\n",
       "      <td>0.051550</td>\n",
       "      <td>0.004089</td>\n",
       "      <td>0.048229</td>\n",
       "      <td>-0.094652</td>\n",
       "      <td>0.024754</td>\n",
       "    </tr>\n",
       "    <tr>\n",
       "      <th>989</th>\n",
       "      <td>-0.065883</td>\n",
       "      <td>0.023708</td>\n",
       "      <td>0.069491</td>\n",
       "      <td>-0.075818</td>\n",
       "      <td>-0.057756</td>\n",
       "      <td>0.050206</td>\n",
       "      <td>-0.029563</td>\n",
       "      <td>-0.034766</td>\n",
       "      <td>0.031167</td>\n",
       "      <td>-0.029667</td>\n",
       "      <td>...</td>\n",
       "      <td>0.017935</td>\n",
       "      <td>-0.045896</td>\n",
       "      <td>0.032228</td>\n",
       "      <td>0.066877</td>\n",
       "      <td>-0.050135</td>\n",
       "      <td>0.050063</td>\n",
       "      <td>0.001199</td>\n",
       "      <td>0.089669</td>\n",
       "      <td>-0.117983</td>\n",
       "      <td>-0.000492</td>\n",
       "    </tr>\n",
       "    <tr>\n",
       "      <th>990</th>\n",
       "      <td>-0.069362</td>\n",
       "      <td>0.071803</td>\n",
       "      <td>0.011254</td>\n",
       "      <td>-0.057523</td>\n",
       "      <td>-0.053804</td>\n",
       "      <td>0.028723</td>\n",
       "      <td>-0.032195</td>\n",
       "      <td>0.002902</td>\n",
       "      <td>-0.005071</td>\n",
       "      <td>-0.003162</td>\n",
       "      <td>...</td>\n",
       "      <td>0.017295</td>\n",
       "      <td>-0.036720</td>\n",
       "      <td>0.033994</td>\n",
       "      <td>0.048741</td>\n",
       "      <td>0.023198</td>\n",
       "      <td>0.020598</td>\n",
       "      <td>0.020424</td>\n",
       "      <td>0.054554</td>\n",
       "      <td>-0.094391</td>\n",
       "      <td>0.049295</td>\n",
       "    </tr>\n",
       "    <tr>\n",
       "      <th>991</th>\n",
       "      <td>-0.031575</td>\n",
       "      <td>-0.014701</td>\n",
       "      <td>0.007667</td>\n",
       "      <td>-0.079068</td>\n",
       "      <td>-0.099300</td>\n",
       "      <td>-0.023633</td>\n",
       "      <td>0.040763</td>\n",
       "      <td>0.035671</td>\n",
       "      <td>-0.037519</td>\n",
       "      <td>-0.066435</td>\n",
       "      <td>...</td>\n",
       "      <td>0.003909</td>\n",
       "      <td>-0.056553</td>\n",
       "      <td>0.022574</td>\n",
       "      <td>0.002882</td>\n",
       "      <td>0.040268</td>\n",
       "      <td>0.051060</td>\n",
       "      <td>0.004099</td>\n",
       "      <td>0.052169</td>\n",
       "      <td>-0.013883</td>\n",
       "      <td>0.033499</td>\n",
       "    </tr>\n",
       "    <tr>\n",
       "      <th>992</th>\n",
       "      <td>-0.018136</td>\n",
       "      <td>-0.040667</td>\n",
       "      <td>0.010055</td>\n",
       "      <td>-0.019008</td>\n",
       "      <td>-0.010424</td>\n",
       "      <td>-0.034192</td>\n",
       "      <td>0.011315</td>\n",
       "      <td>0.097624</td>\n",
       "      <td>-0.003546</td>\n",
       "      <td>-0.027664</td>\n",
       "      <td>...</td>\n",
       "      <td>0.006197</td>\n",
       "      <td>-0.020451</td>\n",
       "      <td>-0.022840</td>\n",
       "      <td>0.019647</td>\n",
       "      <td>0.022942</td>\n",
       "      <td>0.040248</td>\n",
       "      <td>-0.004332</td>\n",
       "      <td>0.034685</td>\n",
       "      <td>0.003452</td>\n",
       "      <td>0.041133</td>\n",
       "    </tr>\n",
       "  </tbody>\n",
       "</table>\n",
       "<p>993 rows × 384 columns</p>\n",
       "</div>"
      ],
      "text/plain": [
       "          0         1         2         3         4         5         6    \\\n",
       "0   -0.032842 -0.009280  0.055022 -0.067724 -0.065440  0.002377  0.048005   \n",
       "1   -0.023873  0.048052  0.006810 -0.053566 -0.030990 -0.028661  0.025102   \n",
       "2    0.003668  0.009179  0.002667 -0.037524  0.005546  0.006663  0.024300   \n",
       "3   -0.051996 -0.039681 -0.014135 -0.044073 -0.002645 -0.046867  0.023784   \n",
       "4   -0.020502  0.013924  0.061473 -0.073522  0.006217 -0.020361  0.032393   \n",
       "..        ...       ...       ...       ...       ...       ...       ...   \n",
       "988 -0.041090  0.033759  0.058024 -0.085470 -0.058646 -0.023672  0.016125   \n",
       "989 -0.065883  0.023708  0.069491 -0.075818 -0.057756  0.050206 -0.029563   \n",
       "990 -0.069362  0.071803  0.011254 -0.057523 -0.053804  0.028723 -0.032195   \n",
       "991 -0.031575 -0.014701  0.007667 -0.079068 -0.099300 -0.023633  0.040763   \n",
       "992 -0.018136 -0.040667  0.010055 -0.019008 -0.010424 -0.034192  0.011315   \n",
       "\n",
       "          7         8         9    ...       374       375       376  \\\n",
       "0    0.056406 -0.025758 -0.070270  ...  0.019427  0.045021 -0.074454   \n",
       "1    0.064557  0.027655 -0.016102  ...  0.002928  0.017251 -0.009519   \n",
       "2    0.044484 -0.044615  0.011683  ... -0.010781 -0.002022 -0.032474   \n",
       "3    0.021076 -0.022028 -0.014570  ... -0.001654 -0.003693  0.004831   \n",
       "4   -0.017513 -0.060253  0.009719  ...  0.011188 -0.008813 -0.037562   \n",
       "..        ...       ...       ...  ...       ...       ...       ...   \n",
       "988  0.020488 -0.006848 -0.025886  ...  0.080674 -0.050265 -0.012867   \n",
       "989 -0.034766  0.031167 -0.029667  ...  0.017935 -0.045896  0.032228   \n",
       "990  0.002902 -0.005071 -0.003162  ...  0.017295 -0.036720  0.033994   \n",
       "991  0.035671 -0.037519 -0.066435  ...  0.003909 -0.056553  0.022574   \n",
       "992  0.097624 -0.003546 -0.027664  ...  0.006197 -0.020451 -0.022840   \n",
       "\n",
       "          377       378       379       380       381       382       383  \n",
       "0   -0.001336 -0.004688  0.052351 -0.024116  0.051638 -0.030786  0.073155  \n",
       "1    0.015610 -0.012487 -0.035733  0.020936  0.011260  0.059333  0.072543  \n",
       "2    0.018512 -0.058308 -0.018376 -0.059382 -0.002678  0.095009  0.003649  \n",
       "3   -0.012200 -0.015481  0.044360 -0.030640  0.002872 -0.002635 -0.035926  \n",
       "4    0.030086 -0.002388  0.038226  0.003376  0.019694  0.082184  0.005778  \n",
       "..        ...       ...       ...       ...       ...       ...       ...  \n",
       "988  0.059968 -0.040027  0.051550  0.004089  0.048229 -0.094652  0.024754  \n",
       "989  0.066877 -0.050135  0.050063  0.001199  0.089669 -0.117983 -0.000492  \n",
       "990  0.048741  0.023198  0.020598  0.020424  0.054554 -0.094391  0.049295  \n",
       "991  0.002882  0.040268  0.051060  0.004099  0.052169 -0.013883  0.033499  \n",
       "992  0.019647  0.022942  0.040248 -0.004332  0.034685  0.003452  0.041133  \n",
       "\n",
       "[993 rows x 384 columns]"
      ]
     },
     "execution_count": 57,
     "metadata": {},
     "output_type": "execute_result"
    }
   ],
   "source": [
    "doc_vectors_df = pd.DataFrame(vectors)\n",
    "doc_vectors_df"
   ]
  },
  {
   "cell_type": "code",
   "execution_count": null,
   "id": "65e88b62-d1b2-48be-894a-60d744b8731c",
   "metadata": {},
   "outputs": [],
   "source": [
    "embed_texts(queries)"
   ]
  },
  {
   "cell_type": "code",
   "execution_count": 125,
   "id": "64851dd8-4ec3-4ee3-9a95-686dc8127cfb",
   "metadata": {},
   "outputs": [],
   "source": [
    "index.save_index(\"data/document_index.bin\")"
   ]
  },
  {
   "cell_type": "code",
   "execution_count": 126,
   "id": "d6ad8460-235a-4adf-a70d-e097e8db44f7",
   "metadata": {},
   "outputs": [],
   "source": [
    "index = hnswlib.Index(space='l2', dim=sentence_embeddings[0].shape[0])\n",
    "index.init_index(max_elements=len(texts), ef_construction=64, M=48, random_seed=13)\n",
    "index.set_ef(16)\n",
    "index.add_items(embed_texts(queries))\n",
    "index.save_index(\"data/queries_index.bin\")"
   ]
  },
  {
   "cell_type": "code",
   "execution_count": 15,
   "id": "395e1b45-d16b-4ff9-ac07-c7a98074f086",
   "metadata": {},
   "outputs": [],
   "source": [
    "pd.Series(texts, name=\"chunks\").map(lambda x: x.replace(\"\\n\", \"\\\\n\").replace(\"\\t\", \"\")).to_csv(\"data/documents1.csv\", index=False, sep=\"\\t\")"
   ]
  },
  {
   "cell_type": "code",
   "execution_count": 19,
   "id": "ad4aeb2a-2c0a-45be-9d79-b7a22935fea2",
   "metadata": {},
   "outputs": [],
   "source": [
    "pd.Series(texts, name=\"chunks\").to_csv(\"data/documents1.csv\", index=False, sep=\"|\")"
   ]
  },
  {
   "cell_type": "code",
   "execution_count": 131,
   "id": "0029e501-528b-457a-87fe-6fa02b5ccda1",
   "metadata": {},
   "outputs": [],
   "source": [
    "pd.Series(queries, name=\"queries\").to_csv(\"data/queries.csv\", index=False)"
   ]
  }
 ],
 "metadata": {
  "kernelspec": {
   "display_name": "Python 3 (ipykernel)",
   "language": "python",
   "name": "python3"
  },
  "language_info": {
   "codemirror_mode": {
    "name": "ipython",
    "version": 3
   },
   "file_extension": ".py",
   "mimetype": "text/x-python",
   "name": "python",
   "nbconvert_exporter": "python",
   "pygments_lexer": "ipython3",
   "version": "3.11.9"
  }
 },
 "nbformat": 4,
 "nbformat_minor": 5
}
